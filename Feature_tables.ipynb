{
 "cells": [
  {
   "cell_type": "code",
   "execution_count": 1,
   "id": "f769d906",
   "metadata": {},
   "outputs": [],
   "source": [
    "import os\n",
    "from snowflake.snowpark import Session\n",
    "from snowflake.snowpark.functions import *\n",
    "#desc, abs, count, col, concat, concat_ws, udf, array_construct, countDistinct, when\n",
    "from snowflake.snowpark.window import Window\n",
    "from snowflake.snowpark.types import *\n",
    "\n",
    "from sklearn.model_selection import train_test_split # split  data into training and testing sets\n",
    "from sklearn.metrics import balanced_accuracy_score, roc_auc_score, make_scorer # for scoring during cross validation\n",
    "from sklearn.model_selection import GridSearchCV # cross validation\n",
    "from sklearn.metrics import confusion_matrix # creates a confusion matrix\n",
    "#from sklearn.m etrics import plot_confusion_matrix # draws a confusion matrix\n",
    "from sklearn.metrics import mean_squared_error as MSE\n",
    "\n",
    "from sklearn.metrics import f1_score\n",
    "from sklearn.metrics import precision_score\n",
    "from sklearn.metrics import recall_score\n",
    "from sklearn.metrics import accuracy_score\n",
    "\n",
    "import xgboost as xgb \n",
    "#import shap\n",
    "import pandas as pd\n",
    "import numpy as np\n",
    "import matplotlib.pyplot as plt\n",
    "from datetime import datetime\n",
    "import math"
   ]
  },
  {
   "cell_type": "code",
   "execution_count": 2,
   "id": "05d549d8",
   "metadata": {},
   "outputs": [],
   "source": [
    "SCHEME = \"https\"\n",
    "ACCOUNT = \"wa15423.us-east-2.aws\"\n",
    "HOST = \"wa15423.us-east-2.aws.snowflakecomputing.com\"\n",
    "PORT = \"443\"\n",
    "WAREHOUSE = \"ANALYTICS_S\"\n",
    "ROLE = \"SVC_DATALAB_ROLE\"\n",
    "DATABASE = \"DATA_LAB_TEST\"\n",
    "SCHEMA = \"PREDICTOR\"\n",
    "\n",
    "connection_parameters = {\n",
    "        \"account\": ACCOUNT,\n",
    "        \"user\": 'svc_datalab',\n",
    "        \"password\": 'p4Xcwd3JmZz;6j!gs.vtg',\n",
    "        \"role\": ROLE,\n",
    "        \"warehouse\": WAREHOUSE,\n",
    "        \"database\": DATABASE,\n",
    "        \"schema\": SCHEMA\n",
    "      }\n",
    "\n",
    "session = Session.builder.configs(connection_parameters).create()"
   ]
  },
  {
   "cell_type": "code",
   "execution_count": 3,
   "id": "0b4fdb9f",
   "metadata": {},
   "outputs": [],
   "source": [
    "all_orders = session.sql(\"SELECT * FROM TR_ORDERS_DEVICE\")"
   ]
  },
  {
   "cell_type": "code",
   "execution_count": 4,
   "id": "1ad34d32",
   "metadata": {},
   "outputs": [],
   "source": [
    "orders_DI = all_orders.filter(col(\"BASE_MODEL\").isNotNull())\n",
    "DI_list = orders_DI.select(col(\"PARTYID\"), col(\"SHOPPARTYID\")).distinct()\n",
    "orders_DI = orders_DI.join(orders_DI.groupBy('PARTYID').agg(min(col(\"COMPLETEDATE\")).alias(\"FIRST_DI_PURCHASE\")), ['PARTYID'], 'left')\n"
   ]
  },
  {
   "cell_type": "code",
   "execution_count": 5,
   "id": "bd598377",
   "metadata": {},
   "outputs": [],
   "source": [
    "w_asc = Window.partitionBy('PARTYID').orderBy(col('COMPLETEDATE').asc())\n",
    "\n",
    "df_DI_upgrades = orders_DI.withColumn(\"RN\", row_number().over(w_asc)).filter(col(\"rn\") > 1).filter(col(\"YEAR\") >= 2014)\n",
    "\n",
    "df_DI_upgrades = df_DI_upgrades.select(col('BPN'), col('GUID'), col('PARTYID'), col('SHOPPARTYID'), col('SHOPGUID'), col('YEAR'), col('RN'))\\\n",
    "                .withColumn('DATE_PREDICT', date_from_parts(col('YEAR'), 1, 1))\\\n",
    "                .withColumn('PREDICT_QUARTER', ((month(col('DATE_PREDICT'))+2)/3).cast(LongType()))\\\n",
    "                .withColumn(\"YEAR_PREDICT\", col('YEAR'))\\\n",
    "                .withColumn('RN', col('RN'))\\\n",
    "                .withColumn('LABEL', lit(1))\\\n",
    "                .drop('YEAR')\n",
    "#df_DI_upgrades = df_DI_upgrades.withColumn(\"PREDICT_QUARTER\", df_DI_upgrades[\"PREDICT_QUARTER\"].cast(LongType()))\n"
   ]
  },
  {
   "cell_type": "code",
   "execution_count": 6,
   "id": "b592e40b",
   "metadata": {},
   "outputs": [],
   "source": [
    "orders_DI_cust = all_orders.join(orders_DI.select(col(\"PARTYID\"), col('FIRST_DI_PURCHASE')).distinct(), ['PARTYID'], 'inner').filter(col('COMPLETEDATE') > col('FIRST_DI_PURCHASE') )\n",
    "\n",
    "for year in range(2014, 2023): \n",
    "    orders_ngt_cur = orders_DI_cust.filter((col('YEAR') == year))\\\n",
    "                        .groupBy('PARTYID', 'YEAR')\\\n",
    "                        .agg(sum(col(\"BASE_MODEL\").isNotNull().cast('integer')).alias(\"CNT_DI\"))\\\n",
    "                        .filter(col('CNT_DI') == 0).drop('CNT_DI')\\\n",
    "                        .withColumn('DATE_PREDICT', date_from_parts(year, 1, 1))\\\n",
    "                        .withColumn('PREDICT_QUARTER', ((month(col('DATE_PREDICT'))+2)/3).cast(LongType()))\\\n",
    "                        .withColumn('YEAR_PREDICT', lit(year))\\\n",
    "                        .drop('YEAR')\n",
    "    \n",
    "    #orders_ngt_cur = orders_ngt_cur.withColumn(\"PREDICT_QUARTER\", orders_ngt_cur[\"PREDICT_QUARTER\"].cast(LongType()))\n",
    "    \n",
    "    if year == 2014:\n",
    "        orders_ngt = orders_ngt_cur\n",
    "    else:\n",
    "        '''all_cust = orders_ngt_c.select( col('BPN'), col(\"GUID\"), col('SHOPGUID'))\\\n",
    "                                .union(df_DI_upgrades.filter(col('YEAR_PREDICT')<year)\\\n",
    "                                                    .select( col('BPN'), col(\"GUID\"), col('SHOPGUID'))).distinct()'''\n",
    "        prev_yr_cust = orders_ngt_c.select( col('PARTYID'), ).distinct()\\\n",
    "                .join(orders_ngt_cur.select( col('PARTYID')).distinct(), ['PARTYID'], 'leftanti')\\\n",
    "                .withColumn('DATE_PREDICT', date_from_parts(year, 1, 1))\\\n",
    "                .withColumn('PREDICT_QUARTER', lit(1))\\\n",
    "                .withColumn('YEAR_PREDICT', lit(year))\n",
    "        #print(prev_yr_cust.count())\n",
    "        orders_ngt_cur = orders_ngt_cur.union(prev_yr_cust)\n",
    "        \n",
    "        orders_ngt = orders_ngt.union(orders_ngt_cur)\n",
    "    orders_ngt_c = orders_ngt.cache_result()\n",
    "    #print(orders_ngt.columns)\n",
    "\n",
    "w_ngt = Window.partitionBy('PARTYID').orderBy(col('DATE_PREDICT').asc())\n",
    "orders_ngt = orders_ngt_c.withColumn(\"RN\", row_number().over(w_ngt)).withColumn('LABEL', lit(0))\n"
   ]
  },
  {
   "cell_type": "code",
   "execution_count": 7,
   "id": "61a13802",
   "metadata": {},
   "outputs": [
    {
     "name": "stdout",
     "output_type": "stream",
     "text": [
      "--------------------------------------\n",
      "|\"YEAR_PREDICT\"  |\"LABEL\"  |\"COUNT\"  |\n",
      "--------------------------------------\n",
      "|2014            |1        |3374     |\n",
      "|2015            |1        |4737     |\n",
      "|2016            |1        |6447     |\n",
      "|2017            |1        |8394     |\n",
      "|2023            |1        |9032     |\n",
      "|2019            |1        |9567     |\n",
      "|2018            |1        |10019    |\n",
      "|2020            |1        |10198    |\n",
      "|2021            |1        |12690    |\n",
      "|2022            |1        |13744    |\n",
      "--------------------------------------\n",
      "\n"
     ]
    }
   ],
   "source": [
    "df_DI_upgrades.groupBy(['YEAR_PREDICT', 'LABEL']).count().orderBy('count').show()"
   ]
  },
  {
   "cell_type": "code",
   "execution_count": 8,
   "id": "4600bc9a",
   "metadata": {},
   "outputs": [
    {
     "name": "stdout",
     "output_type": "stream",
     "text": [
      "--------------------------------------\n",
      "|\"YEAR_PREDICT\"  |\"LABEL\"  |\"COUNT\"  |\n",
      "--------------------------------------\n",
      "|2014            |0        |28506    |\n",
      "|2015            |0        |48617    |\n",
      "|2016            |0        |70675    |\n",
      "|2017            |0        |93440    |\n",
      "|2018            |0        |115375   |\n",
      "|2019            |0        |138391   |\n",
      "|2020            |0        |162652   |\n",
      "|2021            |0        |189614   |\n",
      "|2022            |0        |218329   |\n",
      "--------------------------------------\n",
      "\n"
     ]
    }
   ],
   "source": [
    "orders_ngt.groupBy(['YEAR_PREDICT', 'LABEL']).count().orderBy('count').show()"
   ]
  },
  {
   "cell_type": "code",
   "execution_count": 9,
   "id": "29fad745",
   "metadata": {},
   "outputs": [],
   "source": [
    "orders_ngt = orders_ngt.withColumn('BPN', lit(None)).withColumn('GUID', lit(None)).withColumn('SHOPPARTYID', lit(None))\\\n",
    "                        .withColumn('SHOPGUID', lit(None)).select(col('BPN'), col('GUID'), col('PARTYID'), \n",
    "                                                                  col('SHOPPARTYID'), col('SHOPGUID'), \n",
    "                                                                  col('DATE_PREDICT'), col('PREDICT_QUARTER'), \n",
    "                                                                  col('YEAR_PREDICT'), col('RN'), col('LABEL'))\n",
    "                                                            "
   ]
  },
  {
   "cell_type": "code",
   "execution_count": 10,
   "id": "f413f2f5",
   "metadata": {},
   "outputs": [
    {
     "data": {
      "text/plain": [
       "(['BPN',\n",
       "  'GUID',\n",
       "  'PARTYID',\n",
       "  'SHOPPARTYID',\n",
       "  'SHOPGUID',\n",
       "  'DATE_PREDICT',\n",
       "  'PREDICT_QUARTER',\n",
       "  'YEAR_PREDICT',\n",
       "  'RN',\n",
       "  'LABEL'],\n",
       " ['BPN',\n",
       "  'GUID',\n",
       "  'PARTYID',\n",
       "  'SHOPPARTYID',\n",
       "  'SHOPGUID',\n",
       "  'DATE_PREDICT',\n",
       "  'PREDICT_QUARTER',\n",
       "  'YEAR_PREDICT',\n",
       "  'RN',\n",
       "  'LABEL'])"
      ]
     },
     "execution_count": 10,
     "metadata": {},
     "output_type": "execute_result"
    }
   ],
   "source": [
    "df_DI_upgrades.columns, orders_ngt.columns"
   ]
  },
  {
   "cell_type": "code",
   "execution_count": 11,
   "id": "944da704",
   "metadata": {},
   "outputs": [
    {
     "name": "stdout",
     "output_type": "stream",
     "text": [
      "---------------------\n",
      "|\"LABEL\"  |\"COUNT\"  |\n",
      "---------------------\n",
      "|1        |88202    |\n",
      "|0        |1065599  |\n",
      "---------------------\n",
      "\n"
     ]
    }
   ],
   "source": [
    "df_train = df_DI_upgrades.union(orders_ngt)\n",
    "\n",
    "df_train.groupBy('LABEL').count().orderBy('count').show()"
   ]
  },
  {
   "cell_type": "code",
   "execution_count": 12,
   "id": "bfc755b4",
   "metadata": {},
   "outputs": [],
   "source": [
    "orders_to_predict = all_orders.withColumnRenamed(\"BPN\", 'BPN_all').withColumnRenamed(\"GUID\", 'GUID_all')\\\n",
    "                    .withColumnRenamed(\"SHOPPARTYID\", 'SHOPPARTYID_all').withColumnRenamed(\"SHOPGUID\", 'SHOPGUID_all')\\\n",
    "                    .drop(['PREDICT_QUARTER']).join(df_train, ['PARTYID'], 'right')\n",
    "orders_to_predict = orders_to_predict.withColumn(\"GAP_DAY\", datediff(\"day\", to_date(orders_to_predict.COMPLETEDATE), to_date(orders_to_predict.DATE_PREDICT)))\\\n",
    "                                    .filter(col('GAP_DAY') >= 0)\n"
   ]
  },
  {
   "cell_type": "code",
   "execution_count": 13,
   "id": "06ef9814",
   "metadata": {},
   "outputs": [],
   "source": [
    "orders_to_predict = orders_to_predict.withColumn('BPN', when(col('LABEL')==0, col('BPN_all')).otherwise(col('BPN')))\n",
    "orders_to_predict = orders_to_predict.withColumn('GUID', when(col('LABEL')==0, col('GUID_all')).otherwise(col('GUID')))\n",
    "orders_to_predict = orders_to_predict.withColumn('SHOPGUID', when(col('LABEL')==0, col('SHOPGUID_all')).otherwise(col('SHOPGUID')))\n",
    "orders_to_predict = orders_to_predict.withColumn('SHOPPARTYID', when(col('LABEL')==0, col('SHOPPARTYID_all')).otherwise(col('SHOPPARTYID')))\n"
   ]
  },
  {
   "cell_type": "code",
   "execution_count": 14,
   "id": "cf7d89ef",
   "metadata": {},
   "outputs": [
    {
     "data": {
      "text/plain": [
       "0"
      ]
     },
     "execution_count": 14,
     "metadata": {},
     "output_type": "execute_result"
    }
   ],
   "source": [
    "orders_to_predict.filter(col('SHOPGUID').isNull()).groupBy('LABEL').count().orderBy('count').count()"
   ]
  },
  {
   "cell_type": "code",
   "execution_count": 15,
   "id": "cdbd4a4c",
   "metadata": {},
   "outputs": [],
   "source": [
    "w = Window.partitionBy('PARTYID', 'RN', 'LABEL').orderBy(col('COMPLETEDATE').desc())\n",
    "\n",
    "# Get information about the previous DI purchase\n",
    "\n",
    "df_last = orders_to_predict.filter(col(\"BASE_MODEL\").isNotNull()).filter(col('GAP_DAY') >= 1)\\\n",
    "            .withColumn(\"RN_\",row_number().over(w)).filter(col(\"rn_\") == 1).drop(\"rn_\")\n",
    "\n",
    "df_last = df_last.select(col('BPN'), col('GUID'), col('PARTYID'), col('SHOPPARTYID'), col('SHOPGUID'), \n",
    "                         col('DATE_PREDICT'), col('YEAR_PREDICT'), col('RN'), col('LABEL'), col('ITEM_SKU'), \n",
    "                         col('ITEM_PRICE'), col('BASE_MODEL'), col('TIER'), col('GAP_DAY'), col('COMPLETEDATE'))"
   ]
  },
  {
   "cell_type": "code",
   "execution_count": 16,
   "id": "90ae6280",
   "metadata": {},
   "outputs": [
    {
     "data": {
      "text/plain": [
       "969045"
      ]
     },
     "execution_count": 16,
     "metadata": {},
     "output_type": "execute_result"
    }
   ],
   "source": [
    "df_last.count()"
   ]
  },
  {
   "cell_type": "code",
   "execution_count": 17,
   "id": "1481c948",
   "metadata": {},
   "outputs": [
    {
     "data": {
      "text/plain": [
       "1223677"
      ]
     },
     "execution_count": 17,
     "metadata": {},
     "output_type": "execute_result"
    }
   ],
   "source": [
    "orders_to_predict.filter(col(\"BASE_MODEL\").isNotNull()).filter(col('GAP_DAY') >= 1).count()"
   ]
  },
  {
   "cell_type": "code",
   "execution_count": 18,
   "id": "94f78ef9",
   "metadata": {},
   "outputs": [
    {
     "name": "stdout",
     "output_type": "stream",
     "text": [
      "---------------------\n",
      "|\"LABEL\"  |\"COUNT\"  |\n",
      "---------------------\n",
      "|1        |65552    |\n",
      "|0        |903493   |\n",
      "---------------------\n",
      "\n"
     ]
    }
   ],
   "source": [
    "df_last.groupBy('LABEL').count().orderBy('count').show()"
   ]
  },
  {
   "cell_type": "code",
   "execution_count": 19,
   "id": "c419cfa1",
   "metadata": {},
   "outputs": [],
   "source": [
    "df_DI = orders_to_predict.filter(col(\"BASE_MODEL\").isNotNull()).filter(col('GAP_DAY') >= 1)\n",
    "df_DI = df_DI.groupBy('PARTYID', 'RN', 'LABEL').count().withColumnRenamed(\"COUNT\", \"DI_PURCHASED\")\\\n",
    "        .filter(col('DI_PURCHASED') > 0)\n",
    "df_last = df_last.join(df_DI, ['PARTYID', 'RN', 'LABEL'], 'inner')\n"
   ]
  },
  {
   "cell_type": "code",
   "execution_count": 20,
   "id": "41faf647",
   "metadata": {},
   "outputs": [],
   "source": [
    "w2 = Window.partitionBy(['PARTYID', 'YEAR_PREDICT']).orderBy(col(\"RN\"))\n",
    "df_last = df_last.withColumn(\"row\",row_number().over(w2)) \\\n",
    "  .filter(col(\"row\") == 1).drop(\"row\")"
   ]
  },
  {
   "cell_type": "code",
   "execution_count": 21,
   "id": "4c01d943",
   "metadata": {},
   "outputs": [],
   "source": [
    "df_loyal = session.table('TR_SHOP_LOYALTY')\n",
    "df_last = df_last.join(df_loyal.select(col('BPN'), col('SHOPGUID'), col('LOYALTY')), ['BPN', 'SHOPGUID'], 'left')"
   ]
  },
  {
   "cell_type": "code",
   "execution_count": 22,
   "id": "c34b557a",
   "metadata": {},
   "outputs": [
    {
     "data": {
      "text/plain": [
       "895206"
      ]
     },
     "execution_count": 22,
     "metadata": {},
     "output_type": "execute_result"
    }
   ],
   "source": [
    "df_last.filter(col('LOYALTY').isNull()).count()"
   ]
  },
  {
   "cell_type": "code",
   "execution_count": 23,
   "id": "0e7c6ade",
   "metadata": {},
   "outputs": [],
   "source": [
    "df_last = df_last.na.fill({\"LOYALTY\": 0})"
   ]
  },
  {
   "cell_type": "code",
   "execution_count": 24,
   "id": "1cc7173c",
   "metadata": {},
   "outputs": [],
   "source": [
    "df_last = df_last.join(all_orders.select(col('BPN'), col('COUNTRY')).drop_duplicates(), ['BPN'], 'left')"
   ]
  },
  {
   "cell_type": "code",
   "execution_count": 25,
   "id": "fb7a3d23",
   "metadata": {},
   "outputs": [],
   "source": [
    "df_last = df_last.withColumn('SERIALNUMBER_FUZZY', lit(None))\n",
    "df_last = df_last.withColumn('LAST_UPDATE_DISTANCE', lit(None))\n",
    "df_last = df_last.withColumn('UPDATE_COUNT', lit(None))\n",
    "df_last = df_last.withColumn('UPDATE_FREQUENCY', lit(None))\n",
    "df_last = df_last.withColumn('HAS_SERIAL', lit(None))"
   ]
  },
  {
   "cell_type": "code",
   "execution_count": 26,
   "id": "2223afd2",
   "metadata": {},
   "outputs": [],
   "source": [
    "df_last = df_last.withColumn('IDX', row_number().over(Window.orderBy(lit(1))))"
   ]
  },
  {
   "cell_type": "code",
   "execution_count": 27,
   "id": "1769c58f",
   "metadata": {},
   "outputs": [],
   "source": [
    "df_last.write.mode(\"overwrite\").save_as_table(\"TR_FT_TRAIN\")"
   ]
  },
  {
   "cell_type": "code",
   "execution_count": null,
   "id": "935946bc",
   "metadata": {},
   "outputs": [],
   "source": [
    "df_last.drop(['SERIALNUMBER_FUZZY', 'LAST_UPDATE_DISTANCE', 'UPDATE_COUNT', 'UPDATE_FREQUENCY', \n",
    "              'HAS_SERIAL', 'LOYALTY', 'COUNTRY'])"
   ]
  },
  {
   "cell_type": "code",
   "execution_count": 32,
   "id": "4fee0dd2",
   "metadata": {},
   "outputs": [
    {
     "name": "stdout",
     "output_type": "stream",
     "text": [
      "---------------------\n",
      "|\"LABEL\"  |\"COUNT\"  |\n",
      "---------------------\n",
      "|1        |53206    |\n",
      "|0        |861288   |\n",
      "---------------------\n",
      "\n"
     ]
    }
   ],
   "source": [
    "df_train = df_train.drop(['BPN', 'GUID', 'SHOPPARTYID', 'SHOPGUID'])\\\n",
    "                    .join(df_last.select(col('BPN'), col('GUID'), col('SHOPPARTYID'), col('SHOPGUID'), col('PARTYID'),\n",
    "                                         col('RN'), col('LABEL')), ['PARTYID', 'RN', 'LABEL'], 'inner')\n",
    "df_train.groupBy('LABEL').count().orderBy('count').show()"
   ]
  },
  {
   "cell_type": "code",
   "execution_count": 33,
   "id": "56a4ac0b",
   "metadata": {},
   "outputs": [
    {
     "data": {
      "text/plain": [
       "['PARTYID',\n",
       " 'RN',\n",
       " 'LABEL',\n",
       " 'DATE_PREDICT',\n",
       " 'PREDICT_QUARTER',\n",
       " 'YEAR_PREDICT',\n",
       " 'BPN',\n",
       " 'GUID',\n",
       " 'SHOPPARTYID',\n",
       " 'SHOPGUID']"
      ]
     },
     "execution_count": 33,
     "metadata": {},
     "output_type": "execute_result"
    }
   ],
   "source": [
    "df_train.columns"
   ]
  },
  {
   "cell_type": "code",
   "execution_count": 34,
   "id": "1172b07a",
   "metadata": {},
   "outputs": [],
   "source": [
    "orders_2years = orders_to_predict.filter(col('GAP_DAY') < 4 * 90).filter(col('GAP_DAY') >= 1)\n",
    "orders_2years = orders_2years.withColumn('GAP_DAY', floor(col('GAP_DAY') / 90))\\\n",
    "                .withColumnRenamed(\"GAP_DAY\", 'GAP')\\\n",
    "                .filter(col(\"BASE_MODEL\").isNull())\\\n",
    "                .filter(col('SHORT').isin(['TS', 'PT', 'HT', 'ES', 'DI']))\\\n",
    "                .groupBy('PARTYID', 'RN', 'LABEL', 'SHORT', 'MAJOR', 'GAP')\\\n",
    "                .agg(sum(col('ITEM_PRICE')).alias(\"PRICE\"))\n",
    "orders_2years = orders_2years.select(\"*\", concat(col('SHORT'), lit('_'), col('MAJOR'), lit('_'), col('GAP')).alias('PRODUCT_LINE'))\\\n",
    "            .drop([\"SHORT\", \"MAJOR\", \"GAP\"])\n"
   ]
  },
  {
   "cell_type": "code",
   "execution_count": 35,
   "id": "d83f6673",
   "metadata": {},
   "outputs": [],
   "source": [
    "product_lines = []\n",
    "for i in orders_2years.select(col(\"PRODUCT_LINE\")).distinct().collect():\n",
    "    product_lines.append(i[0])\n",
    "    \n",
    "col_list = [\"PARTYID\", \"RN\", 'LABEL']\n",
    "col_list.extend(product_lines)\n",
    "\n",
    "#orders_2years = orders_2years.drop('SHORT_YEAR')\n",
    "\n",
    "df_line = orders_2years.pivot(\"PRODUCT_LINE\", product_lines).sum(\"PRICE\")\n",
    "col_map = dict(zip(df_line.columns, col_list))\n",
    "df_line = df_line.select([col(c).alias(col_map[c]) for c in df_line.columns])\n",
    "df_line = df_line.na.fill(value=0, subset=product_lines)\n",
    "\n",
    "col_list = [\"PARTYID\", \"RN\", 'LABEL']\n",
    "col_list.extend(sorted(product_lines))\n",
    "df_line = df_line.select(col_list)"
   ]
  },
  {
   "cell_type": "code",
   "execution_count": 36,
   "id": "e3bd2a06",
   "metadata": {},
   "outputs": [
    {
     "name": "stdout",
     "output_type": "stream",
     "text": [
      "---------------------\n",
      "|\"LABEL\"  |\"COUNT\"  |\n",
      "---------------------\n",
      "|1        |70316    |\n",
      "|0        |824270   |\n",
      "---------------------\n",
      "\n"
     ]
    }
   ],
   "source": [
    "df_line.groupBy('LABEL').count().orderBy('count').show()"
   ]
  },
  {
   "cell_type": "code",
   "execution_count": 37,
   "id": "28ffc23e",
   "metadata": {},
   "outputs": [],
   "source": [
    "df_line.write.mode(\"overwrite\").save_as_table(\"TR_FT_PRODUCT_LINE\")"
   ]
  },
  {
   "cell_type": "code",
   "execution_count": 39,
   "id": "296e2a50",
   "metadata": {},
   "outputs": [],
   "source": [
    "orders_to_predict = all_orders.drop(['GUID', 'PREDICT_QUARTER', 'SHOPPARTYID']).withColumnRenamed(\"PARTYID\", 'PARTYID_IN_SHOP')\\\n",
    "                              .join(df_train, ['BPN', 'SHOPGUID'], 'right')\\\n",
    "                              .withColumn(\"GAP_DAY\", datediff(\"day\", to_date(orders_to_predict.COMPLETEDATE), to_date(orders_to_predict.DATE_PREDICT)))\n"
   ]
  },
  {
   "cell_type": "code",
   "execution_count": 41,
   "id": "9c512140",
   "metadata": {},
   "outputs": [],
   "source": [
    "df_mechs = orders_to_predict.filter(col('GAP_DAY') < 4 * 90).filter(col('GAP_DAY') >= 1)\n",
    "df_mechs = df_mechs.withColumn('GAP_DAY', floor(col('GAP_DAY') / 90))\\\n",
    "                        .withColumnRenamed(\"GAP_DAY\", 'GAP')\\\n",
    "                        .select(col('PARTYID'), col('BPN'), col('SHOPGUID'), col('PARTYID_IN_SHOP'),\\\n",
    "                                col('RN'), col('LABEL'), col('GAP')).distinct()\n",
    "\n",
    "df_mechs = df_mechs.groupBy('PARTYID', 'BPN', 'SHOPGUID', 'RN', 'LABEL', 'GAP')\\\n",
    "                    .count().withColumnRenamed(\"COUNT\", \"TECH\")\n",
    "df_mechs = df_mechs.pivot('GAP', [0,1,2,3]).sum(\"TECH\")\n"
   ]
  },
  {
   "cell_type": "code",
   "execution_count": 42,
   "id": "4bd38b73",
   "metadata": {},
   "outputs": [],
   "source": [
    "col_list = ['PARTYID', 'BPN', 'SHOPGUID', 'RN', 'LABEL', 'TECH_0', 'TECH_1', 'TECH_2', 'TECH_3']\n",
    "\n",
    "col_map = dict(zip(df_mechs.columns, col_list))\n",
    "df_mechs = df_mechs.select([col(c).alias(col_map[c]) for c in df_mechs.columns])\n",
    "df_mechs = df_mechs.na.fill(value=0, subset=['TECH_0', 'TECH_1', 'TECH_2', 'TECH_3'])\n"
   ]
  },
  {
   "cell_type": "code",
   "execution_count": 43,
   "id": "4021f428",
   "metadata": {},
   "outputs": [
    {
     "name": "stdout",
     "output_type": "stream",
     "text": [
      "---------------------\n",
      "|\"LABEL\"  |\"COUNT\"  |\n",
      "---------------------\n",
      "|1        |51985    |\n",
      "|0        |792216   |\n",
      "---------------------\n",
      "\n"
     ]
    }
   ],
   "source": [
    "df_mechs.groupBy('LABEL').count().orderBy('count').show()"
   ]
  },
  {
   "cell_type": "code",
   "execution_count": 44,
   "id": "18a6b8fc",
   "metadata": {},
   "outputs": [],
   "source": [
    "df_mechs.write.mode(\"overwrite\").save_as_table(\"TR_FT_MECHANICS\")"
   ]
  }
 ],
 "metadata": {
  "kernelspec": {
   "display_name": "Custom (custom_python)",
   "language": "python",
   "name": "custom_python"
  },
  "language_info": {
   "codemirror_mode": {
    "name": "ipython",
    "version": 3
   },
   "file_extension": ".py",
   "mimetype": "text/x-python",
   "name": "python",
   "nbconvert_exporter": "python",
   "pygments_lexer": "ipython3",
   "version": "3.8.13"
  }
 },
 "nbformat": 4,
 "nbformat_minor": 5
}
