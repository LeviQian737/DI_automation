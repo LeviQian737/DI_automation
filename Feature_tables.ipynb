{
 "cells": [
  {
   "cell_type": "code",
   "execution_count": 7,
   "id": "2340711d",
   "metadata": {},
   "outputs": [],
   "source": [
    "import os\n",
    "from snowflake.snowpark import Session\n",
    "from snowflake.snowpark.functions import *\n",
    "#desc, abs, count, col, concat, concat_ws, udf, array_construct, countDistinct, when\n",
    "from snowflake.snowpark.window import Window\n",
    "from snowflake.snowpark.types import *\n",
    "\n",
    "from sklearn.model_selection import train_test_split # split  data into training and testing sets\n",
    "from sklearn.metrics import balanced_accuracy_score, roc_auc_score, make_scorer # for scoring during cross validation\n",
    "from sklearn.model_selection import GridSearchCV # cross validation\n",
    "from sklearn.metrics import confusion_matrix # creates a confusion matrix\n",
    "#from sklearn.m etrics import plot_confusion_matrix # draws a confusion matrix\n",
    "from sklearn.metrics import mean_squared_error as MSE\n",
    "\n",
    "from sklearn.metrics import f1_score\n",
    "from sklearn.metrics import precision_score\n",
    "from sklearn.metrics import recall_score\n",
    "from sklearn.metrics import accuracy_score\n",
    "\n",
    "import xgboost as xgb \n",
    "#import shap\n",
    "import pandas as pd\n",
    "import numpy as np\n",
    "import matplotlib.pyplot as plt\n",
    "from datetime import datetime, timedelta\n",
    "import math"
   ]
  },
  {
   "cell_type": "code",
   "execution_count": 12,
   "id": "cca7070f",
   "metadata": {},
   "outputs": [],
   "source": [
    "today = datetime.today()\n",
    "current_month_start = datetime(today.year, today.month, 1)\n",
    "previous_month_start = datetime(today.year, today.month-1, 1)\n",
    "#previous_month_end = current_month_start - timedelta(days=1)"
   ]
  },
  {
   "cell_type": "code",
   "execution_count": 15,
   "id": "edc435df",
   "metadata": {},
   "outputs": [
    {
     "data": {
      "text/plain": [
       "<function datetime.date>"
      ]
     },
     "execution_count": 15,
     "metadata": {},
     "output_type": "execute_result"
    }
   ],
   "source": [
    "previous_month_start.date"
   ]
  },
  {
   "cell_type": "code",
   "execution_count": 14,
   "id": "eb09682b",
   "metadata": {},
   "outputs": [
    {
     "data": {
      "text/plain": [
       "\"DELETE FROM TABLE DATA_LAB_TEST.PREDICTOR.TR_ORDERS_DEVICE WHERE date_column >= '2023-05-01 00:00:00'\""
      ]
     },
     "execution_count": 14,
     "metadata": {},
     "output_type": "execute_result"
    }
   ],
   "source": [
    "query1 = \"\"\"DELETE FROM TABLE DATA_LAB_TEST.PREDICTOR.TR_ORDERS_DEVICE WHERE date_column >= '{0}'\"\"\"\n",
    "query1.format(previous_month_start)"
   ]
  },
  {
   "cell_type": "code",
   "execution_count": 16,
   "id": "39a56d2a",
   "metadata": {},
   "outputs": [
    {
     "name": "stderr",
     "output_type": "stream",
     "text": [
      "Failed to execute query [queryID: 01ad0254-0001-2715-0000-7181f9b37e5e] DELETE FROM TABLE DATA_LAB_TEST.PREDICTOR.TR_ORDERS_DEVICE WHERE date_column >= '<built-in method date of datetime.datetime object at 0x7fc5398da210>'\n",
      "001003 (42000): SQL compilation error:\n",
      "syntax error line 1 at position 12 unexpected 'TABLE'.\n",
      "syntax error line 1 at position 31 unexpected '.'.\n"
     ]
    },
    {
     "ename": "SnowparkSQLException",
     "evalue": "(1304): 01ad0254-0001-2715-0000-7181f9b37e5e: 001003 (42000): SQL compilation error:\nsyntax error line 1 at position 12 unexpected 'TABLE'.\nsyntax error line 1 at position 31 unexpected '.'.",
     "output_type": "error",
     "traceback": [
      "\u001b[0;31m---------------------------------------------------------------------------\u001b[0m",
      "\u001b[0;31mSnowparkSQLException\u001b[0m                      Traceback (most recent call last)",
      "Cell \u001b[0;32mIn [16], line 2\u001b[0m\n\u001b[1;32m      1\u001b[0m table \u001b[38;5;241m=\u001b[39m session\u001b[38;5;241m.\u001b[39msql(query1\u001b[38;5;241m.\u001b[39mformat(previous_month_start\u001b[38;5;241m.\u001b[39mdate))\n\u001b[0;32m----> 2\u001b[0m \u001b[43mtable\u001b[49m\u001b[38;5;241;43m.\u001b[39;49m\u001b[43mcollect\u001b[49m\u001b[43m(\u001b[49m\u001b[43m)\u001b[49m\n",
      "File \u001b[0;32m~/SageMaker/custom-miniconda/miniconda/envs/custom_python/lib/python3.8/site-packages/snowflake/snowpark/_internal/telemetry.py:138\u001b[0m, in \u001b[0;36mdf_collect_api_telemetry.<locals>.wrap\u001b[0;34m(*args, **kwargs)\u001b[0m\n\u001b[1;32m    135\u001b[0m \u001b[38;5;129m@functools\u001b[39m\u001b[38;5;241m.\u001b[39mwraps(func)\n\u001b[1;32m    136\u001b[0m \u001b[38;5;28;01mdef\u001b[39;00m \u001b[38;5;21mwrap\u001b[39m(\u001b[38;5;241m*\u001b[39margs, \u001b[38;5;241m*\u001b[39m\u001b[38;5;241m*\u001b[39mkwargs):\n\u001b[1;32m    137\u001b[0m     \u001b[38;5;28;01mwith\u001b[39;00m args[\u001b[38;5;241m0\u001b[39m]\u001b[38;5;241m.\u001b[39m_session\u001b[38;5;241m.\u001b[39mquery_history() \u001b[38;5;28;01mas\u001b[39;00m query_history:\n\u001b[0;32m--> 138\u001b[0m         result \u001b[38;5;241m=\u001b[39m \u001b[43mfunc\u001b[49m\u001b[43m(\u001b[49m\u001b[38;5;241;43m*\u001b[39;49m\u001b[43margs\u001b[49m\u001b[43m,\u001b[49m\u001b[43m \u001b[49m\u001b[38;5;241;43m*\u001b[39;49m\u001b[38;5;241;43m*\u001b[39;49m\u001b[43mkwargs\u001b[49m\u001b[43m)\u001b[49m\n\u001b[1;32m    139\u001b[0m     plan \u001b[38;5;241m=\u001b[39m args[\u001b[38;5;241m0\u001b[39m]\u001b[38;5;241m.\u001b[39m_select_statement \u001b[38;5;129;01mor\u001b[39;00m args[\u001b[38;5;241m0\u001b[39m]\u001b[38;5;241m.\u001b[39m_plan\n\u001b[1;32m    140\u001b[0m     api_calls \u001b[38;5;241m=\u001b[39m [\n\u001b[1;32m    141\u001b[0m         \u001b[38;5;241m*\u001b[39mplan\u001b[38;5;241m.\u001b[39mapi_calls,\n\u001b[1;32m    142\u001b[0m         {TelemetryField\u001b[38;5;241m.\u001b[39mNAME\u001b[38;5;241m.\u001b[39mvalue: \u001b[38;5;124mf\u001b[39m\u001b[38;5;124m\"\u001b[39m\u001b[38;5;124mDataFrame.\u001b[39m\u001b[38;5;132;01m{\u001b[39;00mfunc\u001b[38;5;241m.\u001b[39m\u001b[38;5;18m__name__\u001b[39m\u001b[38;5;132;01m}\u001b[39;00m\u001b[38;5;124m\"\u001b[39m},\n\u001b[1;32m    143\u001b[0m     ]\n",
      "File \u001b[0;32m~/SageMaker/custom-miniconda/miniconda/envs/custom_python/lib/python3.8/site-packages/snowflake/snowpark/dataframe.py:549\u001b[0m, in \u001b[0;36mDataFrame.collect\u001b[0;34m(self, statement_params, block)\u001b[0m\n\u001b[1;32m    533\u001b[0m \u001b[38;5;129m@df_collect_api_telemetry\u001b[39m\n\u001b[1;32m    534\u001b[0m \u001b[38;5;28;01mdef\u001b[39;00m \u001b[38;5;21mcollect\u001b[39m(\n\u001b[1;32m    535\u001b[0m     \u001b[38;5;28mself\u001b[39m, \u001b[38;5;241m*\u001b[39m, statement_params: Optional[Dict[\u001b[38;5;28mstr\u001b[39m, \u001b[38;5;28mstr\u001b[39m]] \u001b[38;5;241m=\u001b[39m \u001b[38;5;28;01mNone\u001b[39;00m, block: \u001b[38;5;28mbool\u001b[39m \u001b[38;5;241m=\u001b[39m \u001b[38;5;28;01mTrue\u001b[39;00m\n\u001b[1;32m    536\u001b[0m ) \u001b[38;5;241m-\u001b[39m\u001b[38;5;241m>\u001b[39m Union[List[Row], AsyncJob]:\n\u001b[1;32m    537\u001b[0m     \u001b[38;5;124;03m\"\"\"Executes the query representing this DataFrame and returns the result as a\u001b[39;00m\n\u001b[1;32m    538\u001b[0m \u001b[38;5;124;03m    list of :class:`Row` objects.\u001b[39;00m\n\u001b[1;32m    539\u001b[0m \n\u001b[0;32m   (...)\u001b[0m\n\u001b[1;32m    547\u001b[0m \u001b[38;5;124;03m        :meth:`collect_nowait()`\u001b[39;00m\n\u001b[1;32m    548\u001b[0m \u001b[38;5;124;03m    \"\"\"\u001b[39;00m\n\u001b[0;32m--> 549\u001b[0m     \u001b[38;5;28;01mreturn\u001b[39;00m \u001b[38;5;28;43mself\u001b[39;49m\u001b[38;5;241;43m.\u001b[39;49m\u001b[43m_internal_collect_with_tag_no_telemetry\u001b[49m\u001b[43m(\u001b[49m\n\u001b[1;32m    550\u001b[0m \u001b[43m        \u001b[49m\u001b[43mstatement_params\u001b[49m\u001b[38;5;241;43m=\u001b[39;49m\u001b[43mstatement_params\u001b[49m\u001b[43m,\u001b[49m\u001b[43m \u001b[49m\u001b[43mblock\u001b[49m\u001b[38;5;241;43m=\u001b[39;49m\u001b[43mblock\u001b[49m\n\u001b[1;32m    551\u001b[0m \u001b[43m    \u001b[49m\u001b[43m)\u001b[49m\n",
      "File \u001b[0;32m~/SageMaker/custom-miniconda/miniconda/envs/custom_python/lib/python3.8/site-packages/snowflake/snowpark/dataframe.py:584\u001b[0m, in \u001b[0;36mDataFrame._internal_collect_with_tag_no_telemetry\u001b[0;34m(self, statement_params, block, data_type)\u001b[0m\n\u001b[1;32m    574\u001b[0m \u001b[38;5;28;01mdef\u001b[39;00m \u001b[38;5;21m_internal_collect_with_tag_no_telemetry\u001b[39m(\n\u001b[1;32m    575\u001b[0m     \u001b[38;5;28mself\u001b[39m,\n\u001b[1;32m    576\u001b[0m     \u001b[38;5;241m*\u001b[39m,\n\u001b[0;32m   (...)\u001b[0m\n\u001b[1;32m    582\u001b[0m     \u001b[38;5;66;03m# we should always call this method instead of collect(), to make sure the\u001b[39;00m\n\u001b[1;32m    583\u001b[0m     \u001b[38;5;66;03m# query tag is set properly.\u001b[39;00m\n\u001b[0;32m--> 584\u001b[0m     \u001b[38;5;28;01mreturn\u001b[39;00m \u001b[38;5;28;43mself\u001b[39;49m\u001b[38;5;241;43m.\u001b[39;49m\u001b[43m_session\u001b[49m\u001b[38;5;241;43m.\u001b[39;49m\u001b[43m_conn\u001b[49m\u001b[38;5;241;43m.\u001b[39;49m\u001b[43mexecute\u001b[49m\u001b[43m(\u001b[49m\n\u001b[1;32m    585\u001b[0m \u001b[43m        \u001b[49m\u001b[38;5;28;43mself\u001b[39;49m\u001b[38;5;241;43m.\u001b[39;49m\u001b[43m_plan\u001b[49m\u001b[43m,\u001b[49m\n\u001b[1;32m    586\u001b[0m \u001b[43m        \u001b[49m\u001b[43mblock\u001b[49m\u001b[38;5;241;43m=\u001b[39;49m\u001b[43mblock\u001b[49m\u001b[43m,\u001b[49m\n\u001b[1;32m    587\u001b[0m \u001b[43m        \u001b[49m\u001b[43mdata_type\u001b[49m\u001b[38;5;241;43m=\u001b[39;49m\u001b[43mdata_type\u001b[49m\u001b[43m,\u001b[49m\n\u001b[1;32m    588\u001b[0m \u001b[43m        \u001b[49m\u001b[43m_statement_params\u001b[49m\u001b[38;5;241;43m=\u001b[39;49m\u001b[43mcreate_or_update_statement_params_with_query_tag\u001b[49m\u001b[43m(\u001b[49m\n\u001b[1;32m    589\u001b[0m \u001b[43m            \u001b[49m\u001b[43mstatement_params\u001b[49m\u001b[43m,\u001b[49m\u001b[43m \u001b[49m\u001b[38;5;28;43mself\u001b[39;49m\u001b[38;5;241;43m.\u001b[39;49m\u001b[43m_session\u001b[49m\u001b[38;5;241;43m.\u001b[39;49m\u001b[43mquery_tag\u001b[49m\u001b[43m,\u001b[49m\u001b[43m \u001b[49m\u001b[43mSKIP_LEVELS_THREE\u001b[49m\n\u001b[1;32m    590\u001b[0m \u001b[43m        \u001b[49m\u001b[43m)\u001b[49m\u001b[43m,\u001b[49m\n\u001b[1;32m    591\u001b[0m \u001b[43m    \u001b[49m\u001b[43m)\u001b[49m\n",
      "File \u001b[0;32m~/SageMaker/custom-miniconda/miniconda/envs/custom_python/lib/python3.8/site-packages/snowflake/snowpark/_internal/server_connection.py:406\u001b[0m, in \u001b[0;36mServerConnection.execute\u001b[0;34m(self, plan, to_pandas, to_iter, block, data_type, **kwargs)\u001b[0m\n\u001b[1;32m    402\u001b[0m \u001b[38;5;28;01mif\u001b[39;00m is_in_stored_procedure() \u001b[38;5;129;01mand\u001b[39;00m \u001b[38;5;129;01mnot\u001b[39;00m block:  \u001b[38;5;66;03m# pragma: no cover\u001b[39;00m\n\u001b[1;32m    403\u001b[0m     \u001b[38;5;28;01mraise\u001b[39;00m \u001b[38;5;167;01mNotImplementedError\u001b[39;00m(\n\u001b[1;32m    404\u001b[0m         \u001b[38;5;124m\"\u001b[39m\u001b[38;5;124mAsync query is not supported in stored procedure yet\u001b[39m\u001b[38;5;124m\"\u001b[39m\n\u001b[1;32m    405\u001b[0m     )\n\u001b[0;32m--> 406\u001b[0m result_set, result_meta \u001b[38;5;241m=\u001b[39m \u001b[38;5;28;43mself\u001b[39;49m\u001b[38;5;241;43m.\u001b[39;49m\u001b[43mget_result_set\u001b[49m\u001b[43m(\u001b[49m\n\u001b[1;32m    407\u001b[0m \u001b[43m    \u001b[49m\u001b[43mplan\u001b[49m\u001b[43m,\u001b[49m\u001b[43m \u001b[49m\u001b[43mto_pandas\u001b[49m\u001b[43m,\u001b[49m\u001b[43m \u001b[49m\u001b[43mto_iter\u001b[49m\u001b[43m,\u001b[49m\u001b[43m \u001b[49m\u001b[38;5;241;43m*\u001b[39;49m\u001b[38;5;241;43m*\u001b[39;49m\u001b[43mkwargs\u001b[49m\u001b[43m,\u001b[49m\u001b[43m \u001b[49m\u001b[43mblock\u001b[49m\u001b[38;5;241;43m=\u001b[39;49m\u001b[43mblock\u001b[49m\u001b[43m,\u001b[49m\u001b[43m \u001b[49m\u001b[43mdata_type\u001b[49m\u001b[38;5;241;43m=\u001b[39;49m\u001b[43mdata_type\u001b[49m\n\u001b[1;32m    408\u001b[0m \u001b[43m\u001b[49m\u001b[43m)\u001b[49m\n\u001b[1;32m    409\u001b[0m \u001b[38;5;28;01mif\u001b[39;00m \u001b[38;5;129;01mnot\u001b[39;00m block:\n\u001b[1;32m    410\u001b[0m     \u001b[38;5;28;01mreturn\u001b[39;00m result_set\n",
      "File \u001b[0;32m~/SageMaker/custom-miniconda/miniconda/envs/custom_python/lib/python3.8/site-packages/snowflake/snowpark/_internal/analyzer/snowflake_plan.py:154\u001b[0m, in \u001b[0;36mSnowflakePlan.Decorator.wrap_exception.<locals>.wrap\u001b[0;34m(*args, **kwargs)\u001b[0m\n\u001b[1;32m    150\u001b[0m \u001b[38;5;28;01melse\u001b[39;00m:\n\u001b[1;32m    151\u001b[0m     ne \u001b[38;5;241m=\u001b[39m SnowparkClientExceptionMessages\u001b[38;5;241m.\u001b[39mSQL_EXCEPTION_FROM_PROGRAMMING_ERROR(\n\u001b[1;32m    152\u001b[0m         e\n\u001b[1;32m    153\u001b[0m     )\n\u001b[0;32m--> 154\u001b[0m     \u001b[38;5;28;01mraise\u001b[39;00m ne\u001b[38;5;241m.\u001b[39mwith_traceback(tb) \u001b[38;5;28;01mfrom\u001b[39;00m \u001b[38;5;28mNone\u001b[39m\n",
      "File \u001b[0;32m~/SageMaker/custom-miniconda/miniconda/envs/custom_python/lib/python3.8/site-packages/snowflake/snowpark/_internal/analyzer/snowflake_plan.py:87\u001b[0m, in \u001b[0;36mSnowflakePlan.Decorator.wrap_exception.<locals>.wrap\u001b[0;34m(*args, **kwargs)\u001b[0m\n\u001b[1;32m     85\u001b[0m \u001b[38;5;28;01mdef\u001b[39;00m \u001b[38;5;21mwrap\u001b[39m(\u001b[38;5;241m*\u001b[39margs, \u001b[38;5;241m*\u001b[39m\u001b[38;5;241m*\u001b[39mkwargs):\n\u001b[1;32m     86\u001b[0m     \u001b[38;5;28;01mtry\u001b[39;00m:\n\u001b[0;32m---> 87\u001b[0m         \u001b[38;5;28;01mreturn\u001b[39;00m \u001b[43mfunc\u001b[49m\u001b[43m(\u001b[49m\u001b[38;5;241;43m*\u001b[39;49m\u001b[43margs\u001b[49m\u001b[43m,\u001b[49m\u001b[43m \u001b[49m\u001b[38;5;241;43m*\u001b[39;49m\u001b[38;5;241;43m*\u001b[39;49m\u001b[43mkwargs\u001b[49m\u001b[43m)\u001b[49m\n\u001b[1;32m     88\u001b[0m     \u001b[38;5;28;01mexcept\u001b[39;00m snowflake\u001b[38;5;241m.\u001b[39mconnector\u001b[38;5;241m.\u001b[39merrors\u001b[38;5;241m.\u001b[39mProgrammingError \u001b[38;5;28;01mas\u001b[39;00m e:\n\u001b[1;32m     89\u001b[0m         tb \u001b[38;5;241m=\u001b[39m sys\u001b[38;5;241m.\u001b[39mexc_info()[\u001b[38;5;241m2\u001b[39m]\n",
      "File \u001b[0;32m~/SageMaker/custom-miniconda/miniconda/envs/custom_python/lib/python3.8/site-packages/snowflake/snowpark/_internal/server_connection.py:494\u001b[0m, in \u001b[0;36mServerConnection.get_result_set\u001b[0;34m(self, plan, to_pandas, to_iter, block, data_type, **kwargs)\u001b[0m\n\u001b[1;32m    492\u001b[0m \u001b[38;5;28;01mfor\u001b[39;00m holder, id_ \u001b[38;5;129;01min\u001b[39;00m placeholders\u001b[38;5;241m.\u001b[39mitems():\n\u001b[1;32m    493\u001b[0m     final_query \u001b[38;5;241m=\u001b[39m final_query\u001b[38;5;241m.\u001b[39mreplace(holder, id_)\n\u001b[0;32m--> 494\u001b[0m result \u001b[38;5;241m=\u001b[39m \u001b[38;5;28;43mself\u001b[39;49m\u001b[38;5;241;43m.\u001b[39;49m\u001b[43mrun_query\u001b[49m\u001b[43m(\u001b[49m\n\u001b[1;32m    495\u001b[0m \u001b[43m    \u001b[49m\u001b[43mfinal_query\u001b[49m\u001b[43m,\u001b[49m\n\u001b[1;32m    496\u001b[0m \u001b[43m    \u001b[49m\u001b[43mto_pandas\u001b[49m\u001b[43m,\u001b[49m\n\u001b[1;32m    497\u001b[0m \u001b[43m    \u001b[49m\u001b[43mto_iter\u001b[49m\u001b[43m \u001b[49m\u001b[38;5;129;43;01mand\u001b[39;49;00m\u001b[43m \u001b[49m\u001b[43m(\u001b[49m\u001b[43mi\u001b[49m\u001b[43m \u001b[49m\u001b[38;5;241;43m==\u001b[39;49m\u001b[43m \u001b[49m\u001b[38;5;28;43mlen\u001b[39;49m\u001b[43m(\u001b[49m\u001b[43mplan\u001b[49m\u001b[38;5;241;43m.\u001b[39;49m\u001b[43mqueries\u001b[49m\u001b[43m)\u001b[49m\u001b[43m \u001b[49m\u001b[38;5;241;43m-\u001b[39;49m\u001b[43m \u001b[49m\u001b[38;5;241;43m1\u001b[39;49m\u001b[43m)\u001b[49m\u001b[43m,\u001b[49m\n\u001b[1;32m    498\u001b[0m \u001b[43m    \u001b[49m\u001b[43mis_ddl_on_temp_object\u001b[49m\u001b[38;5;241;43m=\u001b[39;49m\u001b[43mquery\u001b[49m\u001b[38;5;241;43m.\u001b[39;49m\u001b[43mis_ddl_on_temp_object\u001b[49m\u001b[43m,\u001b[49m\n\u001b[1;32m    499\u001b[0m \u001b[43m    \u001b[49m\u001b[43mblock\u001b[49m\u001b[38;5;241;43m=\u001b[39;49m\u001b[38;5;129;43;01mnot\u001b[39;49;00m\u001b[43m \u001b[49m\u001b[43mis_last\u001b[49m\u001b[43m,\u001b[49m\n\u001b[1;32m    500\u001b[0m \u001b[43m    \u001b[49m\u001b[43mdata_type\u001b[49m\u001b[38;5;241;43m=\u001b[39;49m\u001b[43mdata_type\u001b[49m\u001b[43m,\u001b[49m\n\u001b[1;32m    501\u001b[0m \u001b[43m    \u001b[49m\u001b[43masync_job_plan\u001b[49m\u001b[38;5;241;43m=\u001b[39;49m\u001b[43mplan\u001b[49m\u001b[43m,\u001b[49m\n\u001b[1;32m    502\u001b[0m \u001b[43m    \u001b[49m\u001b[38;5;241;43m*\u001b[39;49m\u001b[38;5;241;43m*\u001b[39;49m\u001b[43mkwargs\u001b[49m\u001b[43m,\u001b[49m\n\u001b[1;32m    503\u001b[0m \u001b[43m\u001b[49m\u001b[43m)\u001b[49m\n\u001b[1;32m    504\u001b[0m placeholders[query\u001b[38;5;241m.\u001b[39mquery_id_place_holder] \u001b[38;5;241m=\u001b[39m (\n\u001b[1;32m    505\u001b[0m     result[\u001b[38;5;124m\"\u001b[39m\u001b[38;5;124msfqid\u001b[39m\u001b[38;5;124m\"\u001b[39m] \u001b[38;5;28;01mif\u001b[39;00m \u001b[38;5;129;01mnot\u001b[39;00m is_last \u001b[38;5;28;01melse\u001b[39;00m result\u001b[38;5;241m.\u001b[39mquery_id\n\u001b[1;32m    506\u001b[0m )\n\u001b[1;32m    507\u001b[0m result_meta \u001b[38;5;241m=\u001b[39m \u001b[38;5;28mself\u001b[39m\u001b[38;5;241m.\u001b[39m_cursor\u001b[38;5;241m.\u001b[39mdescription\n",
      "File \u001b[0;32m~/SageMaker/custom-miniconda/miniconda/envs/custom_python/lib/python3.8/site-packages/snowflake/snowpark/_internal/server_connection.py:104\u001b[0m, in \u001b[0;36mServerConnection._Decorator.wrap_exception.<locals>.wrap\u001b[0;34m(*args, **kwargs)\u001b[0m\n\u001b[1;32m    100\u001b[0m     \u001b[38;5;28;01mraise\u001b[39;00m SnowparkClientExceptionMessages\u001b[38;5;241m.\u001b[39mSERVER_SESSION_EXPIRED(\n\u001b[1;32m    101\u001b[0m         ex\u001b[38;5;241m.\u001b[39mcause\n\u001b[1;32m    102\u001b[0m     )\n\u001b[1;32m    103\u001b[0m \u001b[38;5;28;01mexcept\u001b[39;00m \u001b[38;5;167;01mException\u001b[39;00m \u001b[38;5;28;01mas\u001b[39;00m ex:\n\u001b[0;32m--> 104\u001b[0m     \u001b[38;5;28;01mraise\u001b[39;00m ex\n",
      "File \u001b[0;32m~/SageMaker/custom-miniconda/miniconda/envs/custom_python/lib/python3.8/site-packages/snowflake/snowpark/_internal/server_connection.py:98\u001b[0m, in \u001b[0;36mServerConnection._Decorator.wrap_exception.<locals>.wrap\u001b[0;34m(*args, **kwargs)\u001b[0m\n\u001b[1;32m     96\u001b[0m     \u001b[38;5;28;01mraise\u001b[39;00m SnowparkClientExceptionMessages\u001b[38;5;241m.\u001b[39mSERVER_SESSION_HAS_BEEN_CLOSED()\n\u001b[1;32m     97\u001b[0m \u001b[38;5;28;01mtry\u001b[39;00m:\n\u001b[0;32m---> 98\u001b[0m     \u001b[38;5;28;01mreturn\u001b[39;00m \u001b[43mfunc\u001b[49m\u001b[43m(\u001b[49m\u001b[38;5;241;43m*\u001b[39;49m\u001b[43margs\u001b[49m\u001b[43m,\u001b[49m\u001b[43m \u001b[49m\u001b[38;5;241;43m*\u001b[39;49m\u001b[38;5;241;43m*\u001b[39;49m\u001b[43mkwargs\u001b[49m\u001b[43m)\u001b[49m\n\u001b[1;32m     99\u001b[0m \u001b[38;5;28;01mexcept\u001b[39;00m ReauthenticationRequest \u001b[38;5;28;01mas\u001b[39;00m ex:\n\u001b[1;32m    100\u001b[0m     \u001b[38;5;28;01mraise\u001b[39;00m SnowparkClientExceptionMessages\u001b[38;5;241m.\u001b[39mSERVER_SESSION_EXPIRED(\n\u001b[1;32m    101\u001b[0m         ex\u001b[38;5;241m.\u001b[39mcause\n\u001b[1;32m    102\u001b[0m     )\n",
      "File \u001b[0;32m~/SageMaker/custom-miniconda/miniconda/envs/custom_python/lib/python3.8/site-packages/snowflake/snowpark/_internal/server_connection.py:333\u001b[0m, in \u001b[0;36mServerConnection.run_query\u001b[0;34m(self, query, to_pandas, to_iter, is_ddl_on_temp_object, block, data_type, async_job_plan, **kwargs)\u001b[0m\n\u001b[1;32m    331\u001b[0m     query_id_log \u001b[38;5;241m=\u001b[39m \u001b[38;5;124mf\u001b[39m\u001b[38;5;124m\"\u001b[39m\u001b[38;5;124m [queryID: \u001b[39m\u001b[38;5;132;01m{\u001b[39;00mex\u001b[38;5;241m.\u001b[39msfqid\u001b[38;5;132;01m}\u001b[39;00m\u001b[38;5;124m]\u001b[39m\u001b[38;5;124m\"\u001b[39m \u001b[38;5;28;01mif\u001b[39;00m \u001b[38;5;28mhasattr\u001b[39m(ex, \u001b[38;5;124m\"\u001b[39m\u001b[38;5;124msfqid\u001b[39m\u001b[38;5;124m\"\u001b[39m) \u001b[38;5;28;01melse\u001b[39;00m \u001b[38;5;124m\"\u001b[39m\u001b[38;5;124m\"\u001b[39m\n\u001b[1;32m    332\u001b[0m     logger\u001b[38;5;241m.\u001b[39merror(\u001b[38;5;124mf\u001b[39m\u001b[38;5;124m\"\u001b[39m\u001b[38;5;124mFailed to execute query\u001b[39m\u001b[38;5;132;01m{\u001b[39;00mquery_id_log\u001b[38;5;132;01m}\u001b[39;00m\u001b[38;5;124m \u001b[39m\u001b[38;5;132;01m{\u001b[39;00mquery\u001b[38;5;132;01m}\u001b[39;00m\u001b[38;5;130;01m\\n\u001b[39;00m\u001b[38;5;132;01m{\u001b[39;00mex\u001b[38;5;132;01m}\u001b[39;00m\u001b[38;5;124m\"\u001b[39m)\n\u001b[0;32m--> 333\u001b[0m     \u001b[38;5;28;01mraise\u001b[39;00m ex\n\u001b[1;32m    335\u001b[0m \u001b[38;5;66;03m# fetch_pandas_all/batches() only works for SELECT statements\u001b[39;00m\n\u001b[1;32m    336\u001b[0m \u001b[38;5;66;03m# We call fetchall() if fetch_pandas_all/batches() fails,\u001b[39;00m\n\u001b[1;32m    337\u001b[0m \u001b[38;5;66;03m# because when the query plan has multiple queries, it will\u001b[39;00m\n\u001b[1;32m    338\u001b[0m \u001b[38;5;66;03m# have non-select statements, and it shouldn't fail if the user\u001b[39;00m\n\u001b[1;32m    339\u001b[0m \u001b[38;5;66;03m# calls to_pandas() to execute the query.\u001b[39;00m\n\u001b[1;32m    340\u001b[0m \u001b[38;5;28;01mif\u001b[39;00m block:\n",
      "File \u001b[0;32m~/SageMaker/custom-miniconda/miniconda/envs/custom_python/lib/python3.8/site-packages/snowflake/snowpark/_internal/server_connection.py:317\u001b[0m, in \u001b[0;36mServerConnection.run_query\u001b[0;34m(self, query, to_pandas, to_iter, is_ddl_on_temp_object, block, data_type, async_job_plan, **kwargs)\u001b[0m\n\u001b[1;32m    315\u001b[0m     kwargs[\u001b[38;5;124m\"\u001b[39m\u001b[38;5;124m_statement_params\u001b[39m\u001b[38;5;124m\"\u001b[39m][\u001b[38;5;124m\"\u001b[39m\u001b[38;5;124mSNOWPARK_SKIP_TXN_COMMIT_IN_DDL\u001b[39m\u001b[38;5;124m\"\u001b[39m] \u001b[38;5;241m=\u001b[39m \u001b[38;5;28;01mTrue\u001b[39;00m\n\u001b[1;32m    316\u001b[0m \u001b[38;5;28;01mif\u001b[39;00m block:\n\u001b[0;32m--> 317\u001b[0m     results_cursor \u001b[38;5;241m=\u001b[39m \u001b[38;5;28;43mself\u001b[39;49m\u001b[38;5;241;43m.\u001b[39;49m\u001b[43m_cursor\u001b[49m\u001b[38;5;241;43m.\u001b[39;49m\u001b[43mexecute\u001b[49m\u001b[43m(\u001b[49m\u001b[43mquery\u001b[49m\u001b[43m,\u001b[49m\u001b[43m \u001b[49m\u001b[38;5;241;43m*\u001b[39;49m\u001b[38;5;241;43m*\u001b[39;49m\u001b[43mkwargs\u001b[49m\u001b[43m)\u001b[49m\n\u001b[1;32m    318\u001b[0m     \u001b[38;5;28mself\u001b[39m\u001b[38;5;241m.\u001b[39mnotify_query_listeners(\n\u001b[1;32m    319\u001b[0m         QueryRecord(results_cursor\u001b[38;5;241m.\u001b[39msfqid, results_cursor\u001b[38;5;241m.\u001b[39mquery)\n\u001b[1;32m    320\u001b[0m     )\n\u001b[1;32m    321\u001b[0m     logger\u001b[38;5;241m.\u001b[39mdebug(\u001b[38;5;124mf\u001b[39m\u001b[38;5;124m\"\u001b[39m\u001b[38;5;124mExecute query [queryID: \u001b[39m\u001b[38;5;132;01m{\u001b[39;00mresults_cursor\u001b[38;5;241m.\u001b[39msfqid\u001b[38;5;132;01m}\u001b[39;00m\u001b[38;5;124m] \u001b[39m\u001b[38;5;132;01m{\u001b[39;00mquery\u001b[38;5;132;01m}\u001b[39;00m\u001b[38;5;124m\"\u001b[39m)\n",
      "File \u001b[0;32m~/SageMaker/custom-miniconda/miniconda/envs/custom_python/lib/python3.8/site-packages/snowflake/connector/cursor.py:796\u001b[0m, in \u001b[0;36mSnowflakeCursor.execute\u001b[0;34m(self, command, params, _bind_stage, timeout, _exec_async, _no_retry, _do_reset, _put_callback, _put_azure_callback, _put_callback_output_stream, _get_callback, _get_azure_callback, _get_callback_output_stream, _show_progress_bar, _statement_params, _is_internal, _describe_only, _no_results, _is_put_get, _raise_put_get_error, _force_put_overwrite, file_stream)\u001b[0m\n\u001b[1;32m    792\u001b[0m     is_integrity_error \u001b[38;5;241m=\u001b[39m (\n\u001b[1;32m    793\u001b[0m         code \u001b[38;5;241m==\u001b[39m \u001b[38;5;124m\"\u001b[39m\u001b[38;5;124m100072\u001b[39m\u001b[38;5;124m\"\u001b[39m\n\u001b[1;32m    794\u001b[0m     )  \u001b[38;5;66;03m# NULL result in a non-nullable column\u001b[39;00m\n\u001b[1;32m    795\u001b[0m     error_class \u001b[38;5;241m=\u001b[39m IntegrityError \u001b[38;5;28;01mif\u001b[39;00m is_integrity_error \u001b[38;5;28;01melse\u001b[39;00m ProgrammingError\n\u001b[0;32m--> 796\u001b[0m     \u001b[43mError\u001b[49m\u001b[38;5;241;43m.\u001b[39;49m\u001b[43merrorhandler_wrapper\u001b[49m\u001b[43m(\u001b[49m\u001b[38;5;28;43mself\u001b[39;49m\u001b[38;5;241;43m.\u001b[39;49m\u001b[43mconnection\u001b[49m\u001b[43m,\u001b[49m\u001b[43m \u001b[49m\u001b[38;5;28;43mself\u001b[39;49m\u001b[43m,\u001b[49m\u001b[43m \u001b[49m\u001b[43merror_class\u001b[49m\u001b[43m,\u001b[49m\u001b[43m \u001b[49m\u001b[43merrvalue\u001b[49m\u001b[43m)\u001b[49m\n\u001b[1;32m    797\u001b[0m \u001b[38;5;28;01mreturn\u001b[39;00m \u001b[38;5;28mself\u001b[39m\n",
      "File \u001b[0;32m~/SageMaker/custom-miniconda/miniconda/envs/custom_python/lib/python3.8/site-packages/snowflake/connector/errors.py:275\u001b[0m, in \u001b[0;36mError.errorhandler_wrapper\u001b[0;34m(connection, cursor, error_class, error_value)\u001b[0m\n\u001b[1;32m    252\u001b[0m \u001b[38;5;129m@staticmethod\u001b[39m\n\u001b[1;32m    253\u001b[0m \u001b[38;5;28;01mdef\u001b[39;00m \u001b[38;5;21merrorhandler_wrapper\u001b[39m(\n\u001b[1;32m    254\u001b[0m     connection: SnowflakeConnection \u001b[38;5;241m|\u001b[39m \u001b[38;5;28;01mNone\u001b[39;00m,\n\u001b[0;32m   (...)\u001b[0m\n\u001b[1;32m    257\u001b[0m     error_value: \u001b[38;5;28mdict\u001b[39m[\u001b[38;5;28mstr\u001b[39m, \u001b[38;5;28mstr\u001b[39m \u001b[38;5;241m|\u001b[39m \u001b[38;5;28mbool\u001b[39m \u001b[38;5;241m|\u001b[39m \u001b[38;5;28mint\u001b[39m],\n\u001b[1;32m    258\u001b[0m ) \u001b[38;5;241m-\u001b[39m\u001b[38;5;241m>\u001b[39m \u001b[38;5;28;01mNone\u001b[39;00m:\n\u001b[1;32m    259\u001b[0m     \u001b[38;5;124;03m\"\"\"Error handler wrapper that calls the errorhandler method.\u001b[39;00m\n\u001b[1;32m    260\u001b[0m \n\u001b[1;32m    261\u001b[0m \u001b[38;5;124;03m    Args:\u001b[39;00m\n\u001b[0;32m   (...)\u001b[0m\n\u001b[1;32m    272\u001b[0m \u001b[38;5;124;03m        exception to the first handler in that order.\u001b[39;00m\n\u001b[1;32m    273\u001b[0m \u001b[38;5;124;03m    \"\"\"\u001b[39;00m\n\u001b[0;32m--> 275\u001b[0m     handed_over \u001b[38;5;241m=\u001b[39m \u001b[43mError\u001b[49m\u001b[38;5;241;43m.\u001b[39;49m\u001b[43mhand_to_other_handler\u001b[49m\u001b[43m(\u001b[49m\n\u001b[1;32m    276\u001b[0m \u001b[43m        \u001b[49m\u001b[43mconnection\u001b[49m\u001b[43m,\u001b[49m\n\u001b[1;32m    277\u001b[0m \u001b[43m        \u001b[49m\u001b[43mcursor\u001b[49m\u001b[43m,\u001b[49m\n\u001b[1;32m    278\u001b[0m \u001b[43m        \u001b[49m\u001b[43merror_class\u001b[49m\u001b[43m,\u001b[49m\n\u001b[1;32m    279\u001b[0m \u001b[43m        \u001b[49m\u001b[43merror_value\u001b[49m\u001b[43m,\u001b[49m\n\u001b[1;32m    280\u001b[0m \u001b[43m    \u001b[49m\u001b[43m)\u001b[49m\n\u001b[1;32m    281\u001b[0m     \u001b[38;5;28;01mif\u001b[39;00m \u001b[38;5;129;01mnot\u001b[39;00m handed_over:\n\u001b[1;32m    282\u001b[0m         \u001b[38;5;28;01mraise\u001b[39;00m Error\u001b[38;5;241m.\u001b[39merrorhandler_make_exception(\n\u001b[1;32m    283\u001b[0m             error_class,\n\u001b[1;32m    284\u001b[0m             error_value,\n\u001b[1;32m    285\u001b[0m         )\n",
      "File \u001b[0;32m~/SageMaker/custom-miniconda/miniconda/envs/custom_python/lib/python3.8/site-packages/snowflake/connector/errors.py:330\u001b[0m, in \u001b[0;36mError.hand_to_other_handler\u001b[0;34m(connection, cursor, error_class, error_value)\u001b[0m\n\u001b[1;32m    328\u001b[0m \u001b[38;5;28;01mif\u001b[39;00m cursor \u001b[38;5;129;01mis\u001b[39;00m \u001b[38;5;129;01mnot\u001b[39;00m \u001b[38;5;28;01mNone\u001b[39;00m:\n\u001b[1;32m    329\u001b[0m     cursor\u001b[38;5;241m.\u001b[39mmessages\u001b[38;5;241m.\u001b[39mappend((error_class, error_value))\n\u001b[0;32m--> 330\u001b[0m     \u001b[43mcursor\u001b[49m\u001b[38;5;241;43m.\u001b[39;49m\u001b[43merrorhandler\u001b[49m\u001b[43m(\u001b[49m\u001b[43mconnection\u001b[49m\u001b[43m,\u001b[49m\u001b[43m \u001b[49m\u001b[43mcursor\u001b[49m\u001b[43m,\u001b[49m\u001b[43m \u001b[49m\u001b[43merror_class\u001b[49m\u001b[43m,\u001b[49m\u001b[43m \u001b[49m\u001b[43merror_value\u001b[49m\u001b[43m)\u001b[49m\n\u001b[1;32m    331\u001b[0m     \u001b[38;5;28;01mreturn\u001b[39;00m \u001b[38;5;28;01mTrue\u001b[39;00m\n\u001b[1;32m    332\u001b[0m \u001b[38;5;28;01melif\u001b[39;00m connection \u001b[38;5;129;01mis\u001b[39;00m \u001b[38;5;129;01mnot\u001b[39;00m \u001b[38;5;28;01mNone\u001b[39;00m:\n",
      "File \u001b[0;32m~/SageMaker/custom-miniconda/miniconda/envs/custom_python/lib/python3.8/site-packages/snowflake/connector/errors.py:209\u001b[0m, in \u001b[0;36mError.default_errorhandler\u001b[0;34m(connection, cursor, error_class, error_value)\u001b[0m\n\u001b[1;32m    191\u001b[0m \u001b[38;5;129m@staticmethod\u001b[39m\n\u001b[1;32m    192\u001b[0m \u001b[38;5;28;01mdef\u001b[39;00m \u001b[38;5;21mdefault_errorhandler\u001b[39m(\n\u001b[1;32m    193\u001b[0m     connection: SnowflakeConnection,\n\u001b[0;32m   (...)\u001b[0m\n\u001b[1;32m    196\u001b[0m     error_value: \u001b[38;5;28mdict\u001b[39m[\u001b[38;5;28mstr\u001b[39m, \u001b[38;5;28mstr\u001b[39m],\n\u001b[1;32m    197\u001b[0m ) \u001b[38;5;241m-\u001b[39m\u001b[38;5;241m>\u001b[39m \u001b[38;5;28;01mNone\u001b[39;00m:\n\u001b[1;32m    198\u001b[0m     \u001b[38;5;124;03m\"\"\"Default error handler that raises an error.\u001b[39;00m\n\u001b[1;32m    199\u001b[0m \n\u001b[1;32m    200\u001b[0m \u001b[38;5;124;03m    Args:\u001b[39;00m\n\u001b[0;32m   (...)\u001b[0m\n\u001b[1;32m    207\u001b[0m \u001b[38;5;124;03m        A Snowflake error.\u001b[39;00m\n\u001b[1;32m    208\u001b[0m \u001b[38;5;124;03m    \"\"\"\u001b[39;00m\n\u001b[0;32m--> 209\u001b[0m     \u001b[38;5;28;01mraise\u001b[39;00m error_class(\n\u001b[1;32m    210\u001b[0m         msg\u001b[38;5;241m=\u001b[39merror_value\u001b[38;5;241m.\u001b[39mget(\u001b[38;5;124m\"\u001b[39m\u001b[38;5;124mmsg\u001b[39m\u001b[38;5;124m\"\u001b[39m),\n\u001b[1;32m    211\u001b[0m         errno\u001b[38;5;241m=\u001b[39merror_value\u001b[38;5;241m.\u001b[39mget(\u001b[38;5;124m\"\u001b[39m\u001b[38;5;124merrno\u001b[39m\u001b[38;5;124m\"\u001b[39m),\n\u001b[1;32m    212\u001b[0m         sqlstate\u001b[38;5;241m=\u001b[39merror_value\u001b[38;5;241m.\u001b[39mget(\u001b[38;5;124m\"\u001b[39m\u001b[38;5;124msqlstate\u001b[39m\u001b[38;5;124m\"\u001b[39m),\n\u001b[1;32m    213\u001b[0m         sfqid\u001b[38;5;241m=\u001b[39merror_value\u001b[38;5;241m.\u001b[39mget(\u001b[38;5;124m\"\u001b[39m\u001b[38;5;124msfqid\u001b[39m\u001b[38;5;124m\"\u001b[39m),\n\u001b[1;32m    214\u001b[0m         done_format_msg\u001b[38;5;241m=\u001b[39merror_value\u001b[38;5;241m.\u001b[39mget(\u001b[38;5;124m\"\u001b[39m\u001b[38;5;124mdone_format_msg\u001b[39m\u001b[38;5;124m\"\u001b[39m),\n\u001b[1;32m    215\u001b[0m         connection\u001b[38;5;241m=\u001b[39mconnection,\n\u001b[1;32m    216\u001b[0m         cursor\u001b[38;5;241m=\u001b[39mcursor,\n\u001b[1;32m    217\u001b[0m     )\n",
      "\u001b[0;31mSnowparkSQLException\u001b[0m: (1304): 01ad0254-0001-2715-0000-7181f9b37e5e: 001003 (42000): SQL compilation error:\nsyntax error line 1 at position 12 unexpected 'TABLE'.\nsyntax error line 1 at position 31 unexpected '.'."
     ]
    }
   ],
   "source": [
    "table = session.sql(query1.format(previous_month_start))\n",
    "table.collect()"
   ]
  },
  {
   "cell_type": "code",
   "execution_count": null,
   "id": "9d90e22a",
   "metadata": {},
   "outputs": [],
   "source": [
    "import os\n",
    "from snowflake.snowpark import Session\n",
    "from snowflake.snowpark.functions import *\n",
    "#desc, abs, count, col, concat, concat_ws, udf, array_construct, countDistinct, when\n",
    "from snowflake.snowpark.window import Window\n",
    "from snowflake.snowpark.types import *\n",
    "\n",
    "import numpy as np\n",
    "np.float = float\n",
    "\n",
    "import pandas as pd\n",
    "from datetime import datetime, timedelta\n",
    "\n",
    "PREDICT_YEAR = 2023\n",
    "today = datetime.today()\n",
    "current_month_start = datetime(today.year, today.month, 1)\n",
    "previous_month_start = datetime(today.year, today.month-1, 1)\n",
    "\n",
    "\n",
    "SCHEME = \"https\"\n",
    "ACCOUNT = \"wa15423.us-east-2.aws\"\n",
    "HOST = \"wa15423.us-east-2.aws.snowflakecomputing.com\"\n",
    "PORT = \"443\"\n",
    "WAREHOUSE = \"ANALYTICS_S\"\n",
    "ROLE = \"SVC_DATALAB_ROLE\"\n",
    "DATABASE = \"DATA_LAB_TEST\"\n",
    "SCHEMA = \"PREDICTOR\"\n",
    "\n",
    "connection_parameters = {\n",
    "        \"account\": ACCOUNT,\n",
    "        \"user\": 'svc_datalab',\n",
    "        \"password\": 'p4Xcwd3JmZz;6j!gs.vtg',\n",
    "        \"role\": ROLE,\n",
    "        \"warehouse\": WAREHOUSE,\n",
    "        \"database\": DATABASE,\n",
    "        \"schema\": SCHEMA\n",
    "      }\n",
    "\n",
    "session = Session.builder.configs(connection_parameters).create()\n",
    "\n",
    "query1 = \"\"\"DELETE FROM DATA_LAB_TEST.PREDICTOR.TR_ORDERS_DEVICE WHERE completedate >= '{0}'\"\"\"\n",
    "\n",
    "query2 = '''INSERT into DATA_LAB_TEST.PREDICTOR.TR_ORDERS_DEVICE \n",
    "select \n",
    "    A.*, \n",
    "    B.FIRST_PURCHASE_YEAR AS FIRST_PURCHASE_YEAR, \n",
    "    YEAR(A.completedate)-B.FIRST_PURCHASE_YEAR AS TIME_GAP,\n",
    "    ROW_NUMBER() OVER (ORDER BY (SELECT 1)) AS idx,\n",
    "    null as SERIALNUMBER_FUZZY,\n",
    "    ID.PARTYID as PARTYID,\n",
    "    ID2.PARTYID as SHOPPARTYID\n",
    "FROM (\n",
    "    select DISTINCT\n",
    "    o.client_key AS BPN,\n",
    "    CASE\n",
    "        WHEN c.custtypeid = 4 and c.positiontypeid = 157 and c.shopref is not null THEN c.shopref\n",
    "        ELSE o.custidclientguid\n",
    "    END GUID,  \n",
    "    i.item item_sku,\n",
    "    UPPER(replace(replace(od.serialnumber, ' ', ''), 'USED', '')) as serialnumber_raw,\n",
    "    CASE \n",
    "        WHEN serialnumber_raw LIKE '%-%' AND length(split_part(serialnumber_raw, '-', 1)) NOT IN (3,6,7) \n",
    "            \n",
    "            THEN\n",
    "            (CASE WHEN (length(split_part(serialnumber_raw, '-', 1)) > length(split_part(serialnumber_raw, '-', 2)))\n",
    "            THEN UPPER(split_part(serialnumber_raw, '-', 1)) \n",
    "            ELSE UPPER(split_part(serialnumber_raw, '-', 2)) END) \n",
    "        WHEN serialnumber_raw LIKE '%-%' AND length(split_part(serialnumber_raw, '-', 1)) IN (3,6,7) \n",
    "            \n",
    "            THEN UPPER(LEFT(REGEXP_REPLACE(serialnumber_raw, '([-_+=\\.` /;*~])'), 12))\n",
    "        WHEN serialnumber_raw NOT LIKE '%-%' \n",
    "            AND length(serialnumber_raw) BETWEEN 13 AND 14 \n",
    "            \n",
    "            THEN UPPER(LEFT(REGEXP_REPLACE(serialnumber_raw, '([-_+=\\.` /;*~])'), 12))\n",
    "        ELSE UPPER(serialnumber_raw)\n",
    "    END serialnumber_cut, \n",
    "    CASE \n",
    "        WHEN length(serialnumber_cut) >= 20  \n",
    "            AND UPPER(LEFT(REGEXP_REPLACE(try_hex_decode_string(serialnumber_cut), '([-\\. ])'), 12)) REGEXP '[A-Z0-9]*'\n",
    "        THEN UPPER(LEFT(REGEXP_REPLACE(try_hex_decode_string(serialnumber_cut), '([-\\. ])'), 12))\n",
    "        WHEN length(serialnumber_cut) = 12 \n",
    "        THEN serialnumber_cut\n",
    "    END serialnumber_adj,\n",
    "    o.completedate,  \n",
    "    year(o.completedate) as year,\n",
    "    month(o.completedate) as month,\n",
    "    CASE WHEN MONTH(o.completedate) <= 3 THEN 1\n",
    "                        WHEN MONTH(o.completedate) <= 6 THEN 2\n",
    "                        WHEN MONTH(o.completedate) <= 9 THEN 3\n",
    "                        WHEN MONTH(o.completedate) <= 12 THEN 4 END AS PREDICT_QUARTER,\n",
    "    CASE\n",
    "    WHEN c.custtypeid = 4 THEN\n",
    "            CASE\n",
    "            WHEN trunc((to_number(to_char(o.completedate, 'YYYYMMDD'))-to_number(REPLACE(substr(c.birthdate, 0, 10), '-', '')))/ 10000) > 100 THEN 0\n",
    "            WHEN trunc((to_number(to_char(o.completedate, 'YYYYMMDD'))-to_number(REPLACE(substr(c.birthdate, 0, 10), '-', '')))/ 10000) >= 18 THEN\n",
    "                     trunc((to_number(to_char(o.completedate, 'YYYYMMDD'))-to_number(REPLACE(substr(c.birthdate, 0, 10), '-', '')))/ 10000)\n",
    "            ELSE 0\n",
    "        END\n",
    "    ELSE -1\n",
    "    END age,\n",
    "    c.callday,\n",
    "    CASE\n",
    "        WHEN st.type IS NOT NULL THEN st.type\n",
    "        ELSE 'none'\n",
    "    END shop_type,\n",
    "    CASE c.custtypeid\n",
    "        WHEN 3 THEN o.custidclientguid\n",
    "        WHEN 4 THEN c.shopref\n",
    "    END shopguid,\n",
    "    CASE\n",
    "            WHEN c.positiontypeid = 157 THEN 1\n",
    "            WHEN c.custtypeid = 3 THEN 1\n",
    "            ELSE 0\n",
    "    END shopowner,\n",
    "    DECODE(olt.linetypeid, 1, 'SALE', 6, 'TRADEIN') LINETYPE,\n",
    "    od.listprice sale_list_price,\n",
    "    od.miscallowance discount_amount,\n",
    "    substr(i.line, 0, 2) SHORT,\n",
    "    substr(i.line, 3, 2) MAJOR,\n",
    "    substr(i.line, 5, 2) MINOR,\n",
    "    i.curr_item_price item_price,\n",
    "    d.BASE_MODEL,\n",
    "    d.tier,\n",
    "    case when f.company='100' then 'Canada'\n",
    "        when f.company='130' then 'U.S.'\n",
    "        when f.company='387' then 'U.K.'\n",
    "        end as COUNTRY\n",
    "FROM\n",
    "    chrome.chromebk.orders o,\n",
    "    chrome.chromebk.orderdetail od,\n",
    "    chrome.chromebk.orderlinetype olt,\n",
    "    data_lab_test.predictor.customer c,\n",
    "    chrome.chromebk.customer s,\n",
    "    chrome.chromebk.shoptype st,\n",
    "    chrome.chromebk.address a,\n",
    "    chrome.chromesys.recommender_items i,\n",
    "    data_lab_test.predictor.DI_ITEMS d,\n",
    "    chrome.chromebk.franchisee_map f\n",
    "WHERE\n",
    "    o.client_key = od.client_key\n",
    "    AND o.clientguid = od.orderidclientguid\n",
    "    AND od.client_key = olt.client_key\n",
    "    AND od.clientguid = olt.orderdetailid\n",
    "    AND o.client_key = c.client_key\n",
    "    AND o.custidclientguid = c.clientguid\n",
    "    AND c.client_key = s.client_key\n",
    "    AND c.shopref = s.clientguid\n",
    "    AND s.shoptypeid = st.shoptypeid\n",
    "    AND s.groupid = st.groupid\n",
    "    AND od.partnumber = i.item\n",
    "    AND i.item = d.item (+)\n",
    "    AND c.client_key = a.client_key\n",
    "    AND c.addrid = a.clientguid\n",
    "    AND o.client_key = f.client_key (+)\n",
    "    AND od.isdeleted = 0\n",
    "    AND olt.isdeleted = 0\n",
    "    AND olt.linetypeid in (1,6) \n",
    "    AND (i.item != 'EEMS343H' \n",
    "        OR i.curr_item_price != 1642) \n",
    "    AND o.orderstatus = 10\n",
    "    AND o.ordertypeid = 4\n",
    "    AND od.quantity > 0\n",
    "    AND c.isdeleted = 0\n",
    "    AND s.isdeleted = 0\n",
    "    AND a.isdeleted = 0\n",
    "    AND (UPPER(A.NAME1) NOT LIKE '%CASH%'\n",
    "        OR UPPER(A.NAME2) NOT LIKE '%CASH%'\n",
    "        OR UPPER(A.NAME1) NOT LIKE 'WALK%'\n",
    "        OR UPPER(A.NAME2) NOT LIKE 'WALK%')  \n",
    "    AND o.completedate >= '{0}' \n",
    "    AND o.isdeleted = 0 ) A\n",
    "LEFT JOIN \n",
    "    (SELECT USER_ID, MIN(YEAR(TO_TIMESTAMP_NTZ(TIMESTAMP/1000))) AS first_purchase_year \n",
    "    FROM DATA_LAB_TEST.RECOMMENDER.RECOMMENDER_EXPORT_VIEW2_ALLTIME \n",
    "    GROUP BY USER_ID) B \n",
    "    ON (A.BPN || '-' || A.GUID) = B.USER_ID \n",
    "LEFT JOIN \n",
    "    DATA_LAB_TEST.PREDICTOR.UNIVERSAL_ID_VIEW ID\n",
    "    ON A.GUID = ID.CLIENTGUID AND A.BPN = ID.CLIENTKEY\n",
    "LEFT JOIN \n",
    "    DATA_LAB_TEST.PREDICTOR.UNIVERSAL_ID_VIEW ID2\n",
    "    ON A.SHOPGUID = ID2.CLIENTGUID AND A.BPN = ID2.CLIENTKEY'''\n",
    "\n",
    "table = session.sql(query1.format(previous_month_start))\n",
    "table.collect()\n",
    "\n",
    "table = session.sql(query2.format(previous_month_start))\n",
    "table.collect()"
   ]
  },
  {
   "cell_type": "code",
   "execution_count": 2,
   "id": "c0c5645f",
   "metadata": {},
   "outputs": [],
   "source": [
    "SCHEME = \"https\"\n",
    "ACCOUNT = \"wa15423.us-east-2.aws\"\n",
    "HOST = \"wa15423.us-east-2.aws.snowflakecomputing.com\"\n",
    "PORT = \"443\"\n",
    "WAREHOUSE = \"ANALYTICS_S\"\n",
    "ROLE = \"SVC_DATALAB_ROLE\"\n",
    "DATABASE = \"DATA_LAB_TEST\"\n",
    "SCHEMA = \"PREDICTOR\"\n",
    "\n",
    "connection_parameters = {\n",
    "        \"account\": ACCOUNT,\n",
    "        \"user\": 'svc_datalab',\n",
    "        \"password\": 'p4Xcwd3JmZz;6j!gs.vtg',\n",
    "        \"role\": ROLE,\n",
    "        \"warehouse\": WAREHOUSE,\n",
    "        \"database\": DATABASE,\n",
    "        \"schema\": SCHEMA\n",
    "      }\n",
    "\n",
    "session = Session.builder.configs(connection_parameters).create()"
   ]
  },
  {
   "cell_type": "code",
   "execution_count": 3,
   "id": "e8c5ed90",
   "metadata": {},
   "outputs": [],
   "source": [
    "all_orders = session.sql(\"SELECT * FROM TR_ORDERS_DEVICE\")"
   ]
  },
  {
   "cell_type": "code",
   "execution_count": 4,
   "id": "cb6eaa3b",
   "metadata": {},
   "outputs": [],
   "source": [
    "orders_DI = all_orders.filter(col(\"BASE_MODEL\").isNotNull())\n",
    "DI_list = orders_DI.select(col(\"PARTYID\"), col(\"SHOPPARTYID\")).distinct()\n",
    "orders_DI = orders_DI.join(orders_DI.groupBy('PARTYID').agg(min(col(\"COMPLETEDATE\")).alias(\"FIRST_DI_PURCHASE\")), ['PARTYID'], 'left')\n"
   ]
  },
  {
   "cell_type": "code",
   "execution_count": 5,
   "id": "7513794d",
   "metadata": {},
   "outputs": [],
   "source": [
    "w_asc = Window.partitionBy('PARTYID').orderBy(col('COMPLETEDATE').asc())\n",
    "\n",
    "df_DI_upgrades = orders_DI.withColumn(\"RN\", row_number().over(w_asc)).filter(col(\"rn\") > 1).filter(col(\"YEAR\") >= 2014)\n",
    "\n",
    "df_DI_upgrades = df_DI_upgrades.select(col('BPN'), col('GUID'), col('PARTYID'), col('SHOPPARTYID'), col('SHOPGUID'), col('YEAR'), col('RN'))\\\n",
    "                .withColumn('DATE_PREDICT', date_from_parts(col('YEAR'), 1, 1))\\\n",
    "                .withColumn('PREDICT_QUARTER', ((month(col('DATE_PREDICT'))+2)/3).cast(LongType()))\\\n",
    "                .withColumn(\"YEAR_PREDICT\", col('YEAR'))\\\n",
    "                .withColumn('RN', col('RN'))\\\n",
    "                .withColumn('LABEL', lit(1))\\\n",
    "                .drop('YEAR')\n",
    "#df_DI_upgrades = df_DI_upgrades.withColumn(\"PREDICT_QUARTER\", df_DI_upgrades[\"PREDICT_QUARTER\"].cast(LongType()))\n"
   ]
  },
  {
   "cell_type": "code",
   "execution_count": 6,
   "id": "c8d4101d",
   "metadata": {},
   "outputs": [],
   "source": [
    "orders_DI_cust = all_orders.join(orders_DI.select(col(\"PARTYID\"), col('FIRST_DI_PURCHASE')).distinct(), ['PARTYID'], 'inner').filter(col('COMPLETEDATE') > col('FIRST_DI_PURCHASE') )\n",
    "\n",
    "for year in range(2014, today.year): \n",
    "    orders_ngt_cur = orders_DI_cust.filter((col('YEAR') == year))\\\n",
    "                        .groupBy('PARTYID', 'YEAR')\\\n",
    "                        .agg(sum(col(\"BASE_MODEL\").isNotNull().cast('integer')).alias(\"CNT_DI\"))\\\n",
    "                        .filter(col('CNT_DI') == 0).drop('CNT_DI')\\\n",
    "                        .withColumn('DATE_PREDICT', date_from_parts(year, 1, 1))\\\n",
    "                        .withColumn('PREDICT_QUARTER', ((month(col('DATE_PREDICT'))+2)/3).cast(LongType()))\\\n",
    "                        .withColumn('YEAR_PREDICT', lit(year))\\\n",
    "                        .drop('YEAR')\n",
    "    \n",
    "    #orders_ngt_cur = orders_ngt_cur.withColumn(\"PREDICT_QUARTER\", orders_ngt_cur[\"PREDICT_QUARTER\"].cast(LongType()))\n",
    "    \n",
    "    if year == 2014:\n",
    "        orders_ngt = orders_ngt_cur\n",
    "    else:\n",
    "        '''all_cust = orders_ngt_c.select( col('BPN'), col(\"GUID\"), col('SHOPGUID'))\\\n",
    "                                .union(df_DI_upgrades.filter(col('YEAR_PREDICT')<year)\\\n",
    "                                                    .select( col('BPN'), col(\"GUID\"), col('SHOPGUID'))).distinct()'''\n",
    "        prev_yr_cust = orders_ngt_c.select( col('PARTYID'), ).distinct()\\\n",
    "                .join(orders_ngt_cur.select( col('PARTYID')).distinct(), ['PARTYID'], 'leftanti')\\\n",
    "                .withColumn('DATE_PREDICT', date_from_parts(year, 1, 1))\\\n",
    "                .withColumn('PREDICT_QUARTER', lit(1))\\\n",
    "                .withColumn('YEAR_PREDICT', lit(year))\n",
    "        #print(prev_yr_cust.count())\n",
    "        orders_ngt_cur = orders_ngt_cur.union(prev_yr_cust)\n",
    "        \n",
    "        orders_ngt = orders_ngt.union(orders_ngt_cur)\n",
    "    orders_ngt_c = orders_ngt.cache_result()\n",
    "    #print(orders_ngt.columns)\n",
    "\n",
    "w_ngt = Window.partitionBy('PARTYID').orderBy(col('DATE_PREDICT').asc())\n",
    "orders_ngt = orders_ngt_c.withColumn(\"RN\", row_number().over(w_ngt)).withColumn('LABEL', lit(0))\n"
   ]
  },
  {
   "cell_type": "code",
   "execution_count": 7,
   "id": "b00fbcfd",
   "metadata": {},
   "outputs": [
    {
     "name": "stdout",
     "output_type": "stream",
     "text": [
      "--------------------------------------\n",
      "|\"YEAR_PREDICT\"  |\"LABEL\"  |\"COUNT\"  |\n",
      "--------------------------------------\n",
      "|2014            |1        |3374     |\n",
      "|2015            |1        |4737     |\n",
      "|2016            |1        |6447     |\n",
      "|2017            |1        |8394     |\n",
      "|2023            |1        |9032     |\n",
      "|2019            |1        |9567     |\n",
      "|2018            |1        |10019    |\n",
      "|2020            |1        |10198    |\n",
      "|2021            |1        |12690    |\n",
      "|2022            |1        |13744    |\n",
      "--------------------------------------\n",
      "\n"
     ]
    }
   ],
   "source": [
    "df_DI_upgrades.groupBy(['YEAR_PREDICT', 'LABEL']).count().orderBy('count').show()"
   ]
  },
  {
   "cell_type": "code",
   "execution_count": 8,
   "id": "eebd47ec",
   "metadata": {},
   "outputs": [
    {
     "name": "stdout",
     "output_type": "stream",
     "text": [
      "--------------------------------------\n",
      "|\"YEAR_PREDICT\"  |\"LABEL\"  |\"COUNT\"  |\n",
      "--------------------------------------\n",
      "|2014            |0        |28506    |\n",
      "|2015            |0        |48617    |\n",
      "|2016            |0        |70675    |\n",
      "|2017            |0        |93440    |\n",
      "|2018            |0        |115375   |\n",
      "|2019            |0        |138391   |\n",
      "|2020            |0        |162652   |\n",
      "|2021            |0        |189614   |\n",
      "|2022            |0        |218329   |\n",
      "--------------------------------------\n",
      "\n"
     ]
    }
   ],
   "source": [
    "orders_ngt.groupBy(['YEAR_PREDICT', 'LABEL']).count().orderBy('count').show()"
   ]
  },
  {
   "cell_type": "code",
   "execution_count": 9,
   "id": "111b0c37",
   "metadata": {},
   "outputs": [],
   "source": [
    "orders_ngt = orders_ngt.withColumn('BPN', lit(None)).withColumn('GUID', lit(None)).withColumn('SHOPPARTYID', lit(None))\\\n",
    "                        .withColumn('SHOPGUID', lit(None)).select(col('BPN'), col('GUID'), col('PARTYID'), \n",
    "                                                                  col('SHOPPARTYID'), col('SHOPGUID'), \n",
    "                                                                  col('DATE_PREDICT'), col('PREDICT_QUARTER'), \n",
    "                                                                  col('YEAR_PREDICT'), col('RN'), col('LABEL'))\n",
    "                                                            "
   ]
  },
  {
   "cell_type": "code",
   "execution_count": 10,
   "id": "5bdca8b5",
   "metadata": {},
   "outputs": [
    {
     "data": {
      "text/plain": [
       "(['BPN',\n",
       "  'GUID',\n",
       "  'PARTYID',\n",
       "  'SHOPPARTYID',\n",
       "  'SHOPGUID',\n",
       "  'DATE_PREDICT',\n",
       "  'PREDICT_QUARTER',\n",
       "  'YEAR_PREDICT',\n",
       "  'RN',\n",
       "  'LABEL'],\n",
       " ['BPN',\n",
       "  'GUID',\n",
       "  'PARTYID',\n",
       "  'SHOPPARTYID',\n",
       "  'SHOPGUID',\n",
       "  'DATE_PREDICT',\n",
       "  'PREDICT_QUARTER',\n",
       "  'YEAR_PREDICT',\n",
       "  'RN',\n",
       "  'LABEL'])"
      ]
     },
     "execution_count": 10,
     "metadata": {},
     "output_type": "execute_result"
    }
   ],
   "source": [
    "df_DI_upgrades.columns, orders_ngt.columns"
   ]
  },
  {
   "cell_type": "code",
   "execution_count": 11,
   "id": "ae53bb04",
   "metadata": {},
   "outputs": [
    {
     "name": "stdout",
     "output_type": "stream",
     "text": [
      "---------------------\n",
      "|\"LABEL\"  |\"COUNT\"  |\n",
      "---------------------\n",
      "|1        |88202    |\n",
      "|0        |1065599  |\n",
      "---------------------\n",
      "\n"
     ]
    }
   ],
   "source": [
    "df_train = df_DI_upgrades.union(orders_ngt)\n",
    "\n",
    "df_train.groupBy('LABEL').count().orderBy('count').show()"
   ]
  },
  {
   "cell_type": "code",
   "execution_count": 12,
   "id": "a5570229",
   "metadata": {},
   "outputs": [],
   "source": [
    "orders_to_predict = all_orders.withColumnRenamed(\"BPN\", 'BPN_all').withColumnRenamed(\"GUID\", 'GUID_all')\\\n",
    "                    .withColumnRenamed(\"SHOPPARTYID\", 'SHOPPARTYID_all').withColumnRenamed(\"SHOPGUID\", 'SHOPGUID_all')\\\n",
    "                    .drop(['PREDICT_QUARTER']).join(df_train, ['PARTYID'], 'right')\n",
    "orders_to_predict = orders_to_predict.withColumn(\"GAP_DAY\", datediff(\"day\", to_date(orders_to_predict.COMPLETEDATE), to_date(orders_to_predict.DATE_PREDICT)))\\\n",
    "                                    .filter(col('GAP_DAY') >= 0)\n"
   ]
  },
  {
   "cell_type": "code",
   "execution_count": 13,
   "id": "0d0194d7",
   "metadata": {},
   "outputs": [],
   "source": [
    "orders_to_predict = orders_to_predict.withColumn('BPN', when(col('LABEL')==0, col('BPN_all')).otherwise(col('BPN')))\n",
    "orders_to_predict = orders_to_predict.withColumn('GUID', when(col('LABEL')==0, col('GUID_all')).otherwise(col('GUID')))\n",
    "orders_to_predict = orders_to_predict.withColumn('SHOPGUID', when(col('LABEL')==0, col('SHOPGUID_all')).otherwise(col('SHOPGUID')))\n",
    "orders_to_predict = orders_to_predict.withColumn('SHOPPARTYID', when(col('LABEL')==0, col('SHOPPARTYID_all')).otherwise(col('SHOPPARTYID')))\n"
   ]
  },
  {
   "cell_type": "code",
   "execution_count": 14,
   "id": "d5c67ea5",
   "metadata": {},
   "outputs": [
    {
     "data": {
      "text/plain": [
       "0"
      ]
     },
     "execution_count": 14,
     "metadata": {},
     "output_type": "execute_result"
    }
   ],
   "source": [
    "orders_to_predict.filter(col('SHOPGUID').isNull()).groupBy('LABEL').count().orderBy('count').count()"
   ]
  },
  {
   "cell_type": "code",
   "execution_count": 15,
   "id": "d0732ea3",
   "metadata": {},
   "outputs": [],
   "source": [
    "w = Window.partitionBy('PARTYID', 'RN', 'LABEL').orderBy(col('COMPLETEDATE').desc())\n",
    "\n",
    "# Get information about the previous DI purchase\n",
    "\n",
    "df_last = orders_to_predict.filter(col(\"BASE_MODEL\").isNotNull()).filter(col('GAP_DAY') >= 1)\\\n",
    "            .withColumn(\"RN_\",row_number().over(w)).filter(col(\"rn_\") == 1).drop(\"rn_\")\n",
    "\n",
    "df_last = df_last.select(col('BPN'), col('GUID'), col('PARTYID'), col('SHOPPARTYID'), col('SHOPGUID'), \n",
    "                         col('DATE_PREDICT'), col('YEAR_PREDICT'), col('RN'), col('LABEL'), col('ITEM_SKU'), \n",
    "                         col('ITEM_PRICE'), col('BASE_MODEL'), col('TIER'), col('GAP_DAY'), col('COMPLETEDATE'))"
   ]
  },
  {
   "cell_type": "code",
   "execution_count": 16,
   "id": "666ddc96",
   "metadata": {},
   "outputs": [
    {
     "data": {
      "text/plain": [
       "969045"
      ]
     },
     "execution_count": 16,
     "metadata": {},
     "output_type": "execute_result"
    }
   ],
   "source": [
    "df_last.count()"
   ]
  },
  {
   "cell_type": "code",
   "execution_count": 17,
   "id": "fd7ebb7d",
   "metadata": {},
   "outputs": [
    {
     "data": {
      "text/plain": [
       "1223677"
      ]
     },
     "execution_count": 17,
     "metadata": {},
     "output_type": "execute_result"
    }
   ],
   "source": [
    "orders_to_predict.filter(col(\"BASE_MODEL\").isNotNull()).filter(col('GAP_DAY') >= 1).count()"
   ]
  },
  {
   "cell_type": "code",
   "execution_count": 18,
   "id": "5583f6e5",
   "metadata": {},
   "outputs": [
    {
     "name": "stdout",
     "output_type": "stream",
     "text": [
      "---------------------\n",
      "|\"LABEL\"  |\"COUNT\"  |\n",
      "---------------------\n",
      "|1        |65552    |\n",
      "|0        |903493   |\n",
      "---------------------\n",
      "\n"
     ]
    }
   ],
   "source": [
    "df_last.groupBy('LABEL').count().orderBy('count').show()"
   ]
  },
  {
   "cell_type": "code",
   "execution_count": 19,
   "id": "f3970195",
   "metadata": {},
   "outputs": [],
   "source": [
    "df_DI = orders_to_predict.filter(col(\"BASE_MODEL\").isNotNull()).filter(col('GAP_DAY') >= 1)\n",
    "df_DI = df_DI.groupBy('PARTYID', 'RN', 'LABEL').count().withColumnRenamed(\"COUNT\", \"DI_PURCHASED\")\\\n",
    "        .filter(col('DI_PURCHASED') > 0)\n",
    "df_last = df_last.join(df_DI, ['PARTYID', 'RN', 'LABEL'], 'inner')\n"
   ]
  },
  {
   "cell_type": "code",
   "execution_count": 20,
   "id": "934d47df",
   "metadata": {},
   "outputs": [],
   "source": [
    "w2 = Window.partitionBy(['PARTYID', 'YEAR_PREDICT']).orderBy(col(\"RN\"))\n",
    "df_last = df_last.withColumn(\"row\",row_number().over(w2)) \\\n",
    "  .filter(col(\"row\") == 1).drop(\"row\")"
   ]
  },
  {
   "cell_type": "code",
   "execution_count": 21,
   "id": "8a67f970",
   "metadata": {},
   "outputs": [],
   "source": [
    "df_loyal = session.table('TR_SHOP_LOYALTY')\n",
    "df_last = df_last.join(df_loyal.select(col('BPN'), col('SHOPGUID'), col('LOYALTY')), ['BPN', 'SHOPGUID'], 'left')"
   ]
  },
  {
   "cell_type": "code",
   "execution_count": 22,
   "id": "a424b37c",
   "metadata": {},
   "outputs": [
    {
     "data": {
      "text/plain": [
       "895206"
      ]
     },
     "execution_count": 22,
     "metadata": {},
     "output_type": "execute_result"
    }
   ],
   "source": [
    "df_last.filter(col('LOYALTY').isNull()).count()"
   ]
  },
  {
   "cell_type": "code",
   "execution_count": 23,
   "id": "09329f32",
   "metadata": {},
   "outputs": [],
   "source": [
    "df_last = df_last.na.fill({\"LOYALTY\": 0})"
   ]
  },
  {
   "cell_type": "code",
   "execution_count": 24,
   "id": "b6885da9",
   "metadata": {},
   "outputs": [],
   "source": [
    "df_last = df_last.join(all_orders.select(col('BPN'), col('COUNTRY')).drop_duplicates(), ['BPN'], 'left')"
   ]
  },
  {
   "cell_type": "code",
   "execution_count": 25,
   "id": "3ff9573d",
   "metadata": {},
   "outputs": [],
   "source": [
    "df_last = df_last.withColumn('SERIALNUMBER_FUZZY', lit(None))\n",
    "df_last = df_last.withColumn('LAST_UPDATE_DISTANCE', lit(None))\n",
    "df_last = df_last.withColumn('UPDATE_COUNT', lit(None))\n",
    "df_last = df_last.withColumn('UPDATE_FREQUENCY', lit(None))\n",
    "df_last = df_last.withColumn('HAS_SERIAL', lit(None))"
   ]
  },
  {
   "cell_type": "code",
   "execution_count": 26,
   "id": "6a4b3b88",
   "metadata": {},
   "outputs": [],
   "source": [
    "df_last = df_last.withColumn('IDX', row_number().over(Window.orderBy(lit(1))))"
   ]
  },
  {
   "cell_type": "code",
   "execution_count": 27,
   "id": "e34217ce",
   "metadata": {},
   "outputs": [],
   "source": [
    "df_last.write.mode(\"overwrite\").save_as_table(\"TR_FT_TRAIN\")"
   ]
  },
  {
   "cell_type": "code",
   "execution_count": null,
   "id": "b388b516",
   "metadata": {},
   "outputs": [],
   "source": [
    "df_last.drop(['SERIALNUMBER_FUZZY', 'LAST_UPDATE_DISTANCE', 'UPDATE_COUNT', 'UPDATE_FREQUENCY', \n",
    "              'HAS_SERIAL', 'LOYALTY', 'COUNTRY'])"
   ]
  },
  {
   "cell_type": "code",
   "execution_count": 32,
   "id": "53f80794",
   "metadata": {},
   "outputs": [
    {
     "name": "stdout",
     "output_type": "stream",
     "text": [
      "---------------------\n",
      "|\"LABEL\"  |\"COUNT\"  |\n",
      "---------------------\n",
      "|1        |53206    |\n",
      "|0        |861288   |\n",
      "---------------------\n",
      "\n"
     ]
    }
   ],
   "source": [
    "df_train = df_train.drop(['BPN', 'GUID', 'SHOPPARTYID', 'SHOPGUID'])\\\n",
    "                    .join(df_last.select(col('BPN'), col('GUID'), col('SHOPPARTYID'), col('SHOPGUID'), col('PARTYID'),\n",
    "                                         col('RN'), col('LABEL')), ['PARTYID', 'RN', 'LABEL'], 'inner')\n",
    "df_train.groupBy('LABEL').count().orderBy('count').show()"
   ]
  },
  {
   "cell_type": "code",
   "execution_count": 33,
   "id": "04f674c0",
   "metadata": {},
   "outputs": [
    {
     "data": {
      "text/plain": [
       "['PARTYID',\n",
       " 'RN',\n",
       " 'LABEL',\n",
       " 'DATE_PREDICT',\n",
       " 'PREDICT_QUARTER',\n",
       " 'YEAR_PREDICT',\n",
       " 'BPN',\n",
       " 'GUID',\n",
       " 'SHOPPARTYID',\n",
       " 'SHOPGUID']"
      ]
     },
     "execution_count": 33,
     "metadata": {},
     "output_type": "execute_result"
    }
   ],
   "source": [
    "df_train.columns"
   ]
  },
  {
   "cell_type": "code",
   "execution_count": 34,
   "id": "55bb9582",
   "metadata": {},
   "outputs": [],
   "source": [
    "orders_2years = orders_to_predict.filter(col('GAP_DAY') < 4 * 90).filter(col('GAP_DAY') >= 1)\n",
    "orders_2years = orders_2years.withColumn('GAP_DAY', floor(col('GAP_DAY') / 90))\\\n",
    "                .withColumnRenamed(\"GAP_DAY\", 'GAP')\\\n",
    "                .filter(col(\"BASE_MODEL\").isNull())\\\n",
    "                .filter(col('SHORT').isin(['TS', 'PT', 'HT', 'ES', 'DI']))\\\n",
    "                .groupBy('PARTYID', 'RN', 'LABEL', 'SHORT', 'MAJOR', 'GAP')\\\n",
    "                .agg(sum(col('ITEM_PRICE')).alias(\"PRICE\"))\n",
    "orders_2years = orders_2years.select(\"*\", concat(col('SHORT'), lit('_'), col('MAJOR'), lit('_'), col('GAP')).alias('PRODUCT_LINE'))\\\n",
    "            .drop([\"SHORT\", \"MAJOR\", \"GAP\"])\n"
   ]
  },
  {
   "cell_type": "code",
   "execution_count": 35,
   "id": "4104d234",
   "metadata": {},
   "outputs": [],
   "source": [
    "product_lines = []\n",
    "for i in orders_2years.select(col(\"PRODUCT_LINE\")).distinct().collect():\n",
    "    product_lines.append(i[0])\n",
    "    \n",
    "col_list = [\"PARTYID\", \"RN\", 'LABEL']\n",
    "col_list.extend(product_lines)\n",
    "\n",
    "#orders_2years = orders_2years.drop('SHORT_YEAR')\n",
    "\n",
    "df_line = orders_2years.pivot(\"PRODUCT_LINE\", product_lines).sum(\"PRICE\")\n",
    "col_map = dict(zip(df_line.columns, col_list))\n",
    "df_line = df_line.select([col(c).alias(col_map[c]) for c in df_line.columns])\n",
    "df_line = df_line.na.fill(value=0, subset=product_lines)\n",
    "\n",
    "col_list = [\"PARTYID\", \"RN\", 'LABEL']\n",
    "col_list.extend(sorted(product_lines))\n",
    "df_line = df_line.select(col_list)"
   ]
  },
  {
   "cell_type": "code",
   "execution_count": 36,
   "id": "22b586a4",
   "metadata": {},
   "outputs": [
    {
     "name": "stdout",
     "output_type": "stream",
     "text": [
      "---------------------\n",
      "|\"LABEL\"  |\"COUNT\"  |\n",
      "---------------------\n",
      "|1        |70316    |\n",
      "|0        |824270   |\n",
      "---------------------\n",
      "\n"
     ]
    }
   ],
   "source": [
    "df_line.groupBy('LABEL').count().orderBy('count').show()"
   ]
  },
  {
   "cell_type": "code",
   "execution_count": 37,
   "id": "7e747990",
   "metadata": {},
   "outputs": [],
   "source": [
    "df_line.write.mode(\"overwrite\").save_as_table(\"TR_FT_PRODUCT_LINE\")"
   ]
  },
  {
   "cell_type": "code",
   "execution_count": 39,
   "id": "bdd9b38c",
   "metadata": {},
   "outputs": [],
   "source": [
    "orders_to_predict = all_orders.drop(['GUID', 'PREDICT_QUARTER', 'SHOPPARTYID']).withColumnRenamed(\"PARTYID\", 'PARTYID_IN_SHOP')\\\n",
    "                              .join(df_train, ['BPN', 'SHOPGUID'], 'right')\\\n",
    "                              .withColumn(\"GAP_DAY\", datediff(\"day\", to_date(orders_to_predict.COMPLETEDATE), to_date(orders_to_predict.DATE_PREDICT)))\n"
   ]
  },
  {
   "cell_type": "code",
   "execution_count": 41,
   "id": "34a51880",
   "metadata": {},
   "outputs": [],
   "source": [
    "df_mechs = orders_to_predict.filter(col('GAP_DAY') < 4 * 90).filter(col('GAP_DAY') >= 1)\n",
    "df_mechs = df_mechs.withColumn('GAP_DAY', floor(col('GAP_DAY') / 90))\\\n",
    "                        .withColumnRenamed(\"GAP_DAY\", 'GAP')\\\n",
    "                        .select(col('PARTYID'), col('BPN'), col('SHOPGUID'), col('PARTYID_IN_SHOP'),\\\n",
    "                                col('RN'), col('LABEL'), col('GAP')).distinct()\n",
    "\n",
    "df_mechs = df_mechs.groupBy('PARTYID', 'BPN', 'SHOPGUID', 'RN', 'LABEL', 'GAP')\\\n",
    "                    .count().withColumnRenamed(\"COUNT\", \"TECH\")\n",
    "df_mechs = df_mechs.pivot('GAP', [0,1,2,3]).sum(\"TECH\")\n"
   ]
  },
  {
   "cell_type": "code",
   "execution_count": 42,
   "id": "f0b44d08",
   "metadata": {},
   "outputs": [],
   "source": [
    "col_list = ['PARTYID', 'BPN', 'SHOPGUID', 'RN', 'LABEL', 'TECH_0', 'TECH_1', 'TECH_2', 'TECH_3']\n",
    "\n",
    "col_map = dict(zip(df_mechs.columns, col_list))\n",
    "df_mechs = df_mechs.select([col(c).alias(col_map[c]) for c in df_mechs.columns])\n",
    "df_mechs = df_mechs.na.fill(value=0, subset=['TECH_0', 'TECH_1', 'TECH_2', 'TECH_3'])\n"
   ]
  },
  {
   "cell_type": "code",
   "execution_count": 43,
   "id": "dae4653c",
   "metadata": {},
   "outputs": [
    {
     "name": "stdout",
     "output_type": "stream",
     "text": [
      "---------------------\n",
      "|\"LABEL\"  |\"COUNT\"  |\n",
      "---------------------\n",
      "|1        |51985    |\n",
      "|0        |792216   |\n",
      "---------------------\n",
      "\n"
     ]
    }
   ],
   "source": [
    "df_mechs.groupBy('LABEL').count().orderBy('count').show()"
   ]
  },
  {
   "cell_type": "code",
   "execution_count": 44,
   "id": "32a295b7",
   "metadata": {},
   "outputs": [],
   "source": [
    "df_mechs.write.mode(\"overwrite\").save_as_table(\"TR_FT_MECHANICS\")"
   ]
  }
 ],
 "metadata": {
  "kernelspec": {
   "display_name": "Custom (custom_python)",
   "language": "python",
   "name": "custom_python"
  },
  "language_info": {
   "codemirror_mode": {
    "name": "ipython",
    "version": 3
   },
   "file_extension": ".py",
   "mimetype": "text/x-python",
   "name": "python",
   "nbconvert_exporter": "python",
   "pygments_lexer": "ipython3",
   "version": "3.8.13"
  }
 },
 "nbformat": 4,
 "nbformat_minor": 5
}
