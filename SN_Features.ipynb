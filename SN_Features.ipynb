{
 "cells": [
  {
   "cell_type": "code",
   "execution_count": 1,
   "id": "89733fa6",
   "metadata": {},
   "outputs": [
    {
     "name": "stderr",
     "output_type": "stream",
     "text": [
      "/home/ec2-user/SageMaker/.persisted_conda/custom_new/lib/python3.8/site-packages/snowflake/connector/options.py:107: UserWarning: You have an incompatible version of 'pyarrow' installed (11.0.0), please install a version that adheres to: 'pyarrow<10.1.0,>=10.0.1; extra == \"pandas\"'\n",
      "  warn_incompatible_dep(\n"
     ]
    }
   ],
   "source": [
    "import os\n",
    "from snowflake.snowpark import Session\n",
    "from snowflake.snowpark.functions import *\n",
    "#desc, abs, count, col, concat, concat_ws, udf, array_construct, countDistinct, when\n",
    "from snowflake.snowpark.window import Window\n",
    "from snowflake.snowpark.types import *\n",
    "\n",
    "import numpy as np\n",
    "np.float = float\n",
    "\n",
    "import pandas as pd\n",
    "from datetime import datetime\n"
   ]
  },
  {
   "cell_type": "code",
   "execution_count": 2,
   "id": "f3f507af",
   "metadata": {},
   "outputs": [],
   "source": [
    "SCHEME = \"https\"\n",
    "ACCOUNT = \"wa15423.us-east-2.aws\"\n",
    "HOST = \"wa15423.us-east-2.aws.snowflakecomputing.com\"\n",
    "PORT = \"443\"\n",
    "WAREHOUSE = \"ANALYTICS_S\"\n",
    "ROLE = \"SVC_DATALAB_ROLE\"\n",
    "DATABASE = \"DATA_LAB_TEST\"\n",
    "SCHEMA = \"PREDICTOR\"\n",
    "\n",
    "connection_parameters = {\n",
    "        \"account\": ACCOUNT,\n",
    "        \"user\": 'svc_datalab',\n",
    "        \"password\": 'p4Xcwd3JmZz;6j!gs.vtg',\n",
    "        \"role\": ROLE,\n",
    "        \"warehouse\": WAREHOUSE,\n",
    "        \"database\": DATABASE,\n",
    "        \"schema\": SCHEMA\n",
    "      }\n",
    "\n",
    "session = Session.builder.configs(connection_parameters).create()"
   ]
  },
  {
   "cell_type": "code",
   "execution_count": 3,
   "id": "64a45535",
   "metadata": {},
   "outputs": [],
   "source": [
    "train = session.table(\"TR_FT_TRAIN\")\n",
    "serials = session.sql('''WITH p as (SELECT t.PARTYID, t.DATE_PREDICT, d.COMPLETEDATE, d.SERIALNUMBER_FUZZY, t.IDX,\n",
    "                                            ROW_NUMBER() OVER (PARTITION BY t.PARTYID, t.DATE_PREDICT \n",
    "                                                                ORDER BY d.COMPLETEDATE) as dt_idx\n",
    "                                FROM TR_FT_TRAIN t\n",
    "                                LEFT JOIN (SELECT * FROM TR_ORDERS_DEVICE WHERE SERIALNUMBER_FUZZY is not null) d \n",
    "                                    ON t.PARTYID = d.PARTYID\n",
    "                                WHERE t.DATE_PREDICT > d.COMPLETEDATE OR d.SERIALNUMBER_FUZZY IS NULL)\n",
    "\n",
    "                        SELECT SERIALNUMBER_FUZZY, IDX\n",
    "                        FROM p\n",
    "                        WHERE (PARTYID, DATE_PREDICT, dt_idx) IN (\n",
    "                                SELECT PARTYID, DATE_PREDICT, MIN(dt_idx) AS min_idx\n",
    "                                FROM p\n",
    "                                GROUP BY PARTYID, DATE_PREDICT)''')\n",
    "\n",
    "use_df = session.table(\"TR_DEVICESTATUSHISTORY\")\n"
   ]
  },
  {
   "cell_type": "code",
   "execution_count": 4,
   "id": "b67e1cd0",
   "metadata": {},
   "outputs": [
    {
     "data": {
      "text/plain": [
       "(913625, 834722, 93580718)"
      ]
     },
     "execution_count": 4,
     "metadata": {},
     "output_type": "execute_result"
    }
   ],
   "source": [
    "train.count(), serials.count(), use_df.count()"
   ]
  },
  {
   "cell_type": "code",
   "execution_count": 5,
   "id": "e2984619",
   "metadata": {},
   "outputs": [
    {
     "name": "stdout",
     "output_type": "stream",
     "text": [
      "---------------------------------\n",
      "|\"SERIALNUMBER_FUZZY\"  |\"IDX\"   |\n",
      "---------------------------------\n",
      "|211DDA2097            |421922  |\n",
      "|A0F4E20A00            |16731   |\n",
      "|NULL                  |664477  |\n",
      "|117HDI001464          |248265  |\n",
      "|NULL                  |484813  |\n",
      "|NULL                  |568792  |\n",
      "|NULL                  |71831   |\n",
      "|NULL                  |872659  |\n",
      "|NULL                  |54415   |\n",
      "|452SUH521542          |203455  |\n",
      "---------------------------------\n",
      "\n"
     ]
    }
   ],
   "source": [
    "serials.show()"
   ]
  },
  {
   "cell_type": "code",
   "execution_count": 6,
   "id": "2d0055a4",
   "metadata": {},
   "outputs": [],
   "source": [
    "train = train.drop(['SERIALNUMBER_FUZZY', 'LAST_UPDATE_DISTANCE', 'UPDATE_COUNT', 'UPDATE_FREQ', 'HAS_SERIAL'])"
   ]
  },
  {
   "cell_type": "code",
   "execution_count": 7,
   "id": "66397a67",
   "metadata": {},
   "outputs": [],
   "source": [
    "train = train.join(serials, on=\"IDX\", how=\"left\").select(col('PARTYID'), col('RN'), col('LABEL'),\n",
    "                                                         col('DATE_PREDICT'), col('YEAR_PREDICT'), col('ITEM_SKU'),\n",
    "                                                         col('ITEM_PRICE'), col('BASE_MODEL'), col('TIER'),\n",
    "                                                         col('GAP_DAY'), col('COMPLETEDATE'), col('DI_PURCHASED'), \n",
    "                                                         col('SERIALNUMBER_FUZZY'), col('IDX'))\n",
    "train = train.cache_result()"
   ]
  },
  {
   "cell_type": "code",
   "execution_count": 8,
   "id": "db980e49",
   "metadata": {},
   "outputs": [],
   "source": [
    "#serials = list(map(lambda x: x['SERIALNUMBER_FUZZY'], train.filter(train.SERIALNUMBER_FUZZY.isNotNull()).select('SERIALNUMBER_FUZZY').collect()))"
   ]
  },
  {
   "cell_type": "code",
   "execution_count": 9,
   "id": "e49c154c",
   "metadata": {},
   "outputs": [],
   "source": [
    "use_df = use_df.join(serials, use_df.SERIALNUMBER==serials.SERIALNUMBER_FUZZY, how='inner')\\\n",
    "                .drop([\"IDX\", \"SERIALNUMBER_FUZZY\"])\n",
    "\n",
    "# Filter rows based on 'BUNDLENUMBER' column\n",
    "bundle_numbers = ['22.2.0', '22.4', '22.4.0', '20.2.0', '21.2.0', '20.4.0', '21.4.0',\n",
    "       '22.2', '19.4.0', '16.2', '17.2', '18.4', '18.2', '15.2', '15.4',\n",
    "       '16.4', '19.2',  '18.2.0', '18.4.0', '19.2.0', \n",
    "       '17.4.0', '18.2.1', '17.4', '19.4.2', '18.4.1', '20.4.2', '19.4',\n",
    "       '21.4', '19.2.1', '20.2.2', '20.2', '20.2.1', '21.2.1', '19.4.1',\n",
    "       '21.2', '21.4.1', '19.2.2', '17.2.0', '15.4.0', '16.4.0', '20.4', '16.2.0', '15.2.0']\n",
    "use_df = use_df.filter(col('BUNDLENUMBER').isin(bundle_numbers))\n",
    "\n",
    "# Update 'BUNDLENUMBER' column values\n",
    "use_df = use_df.withColumn('BUNDLENUMBER', concat(lit('20'), split(col('BUNDLENUMBER'), lit('.'))[0], lit('.'), split(col('BUNDLENUMBER'), lit('.'))[1]))\n"
   ]
  },
  {
   "cell_type": "code",
   "execution_count": 10,
   "id": "64535299",
   "metadata": {},
   "outputs": [],
   "source": [
    "# Update 'y1' column\n",
    "use_df = use_df.withColumn('y1', use_df['BUNDLEUPDATEDATE'].substr(1, 4).cast('integer'))\n",
    "\n",
    "# Update 'y2' column\n",
    "use_df = use_df.withColumn('y2', use_df['BUNDLENUMBER'].substr(1, 4).cast('integer'))\n",
    "\n",
    "# Filter rows based on conditions\n",
    "use_df = use_df.filter((use_df['y1'] == use_df['y2']) | (use_df['y1'] - 1 == use_df['y2']))\n",
    "\n",
    "# Update 'BUNDLEUPDATEDATE' column\n",
    "use_df = use_df.withColumn('BUNDLEUPDATEDATE', use_df['BUNDLEUPDATEDATE'].substr(1, 10))\n",
    "\n",
    "use_df = use_df.select('SERIALNUMBER', 'BUNDLEUPDATEDATE', 'y1', 'BUNDLENUMBER')\n",
    "\n"
   ]
  },
  {
   "cell_type": "code",
   "execution_count": 11,
   "id": "dbc632bd",
   "metadata": {},
   "outputs": [],
   "source": [
    "use_df = use_df.cache_result()"
   ]
  },
  {
   "cell_type": "code",
   "execution_count": 12,
   "id": "b176df57",
   "metadata": {},
   "outputs": [],
   "source": [
    "df2 = train.select(col('DATE_PREDICT'), col('SERIALNUMBER_FUZZY'), col('IDX'))"
   ]
  },
  {
   "cell_type": "code",
   "execution_count": 13,
   "id": "bef59b08",
   "metadata": {},
   "outputs": [],
   "source": [
    "merge_t = df2.join(use_df, df2.SERIALNUMBER_FUZZY == use_df.SERIALNUMBER, how = 'left')\n",
    "m = merge_t.filter(merge_t['DATE_PREDICT'] > merge_t['BUNDLEUPDATEDATE'])"
   ]
  },
  {
   "cell_type": "code",
   "execution_count": 14,
   "id": "362b15f0",
   "metadata": {},
   "outputs": [],
   "source": [
    "m2 = m.dropDuplicates(['IDX', 'SERIALNUMBER_FUZZY', 'DATE_PREDICT', 'BUNDLENUMBER'])"
   ]
  },
  {
   "cell_type": "code",
   "execution_count": 15,
   "id": "1c3d08fc",
   "metadata": {},
   "outputs": [],
   "source": [
    "update_count = m2.group_by('IDX').count().select(col('IDX'), col('COUNT').alias('UPDATE_COUNT'))\n"
   ]
  },
  {
   "cell_type": "code",
   "execution_count": 16,
   "id": "4695cbf7",
   "metadata": {},
   "outputs": [],
   "source": [
    "df2 = df2.join(update_count, on=\"IDX\", how=\"left\")"
   ]
  },
  {
   "cell_type": "code",
   "execution_count": 17,
   "id": "beeabb65",
   "metadata": {},
   "outputs": [
    {
     "data": {
      "text/plain": [
       "186489"
      ]
     },
     "execution_count": 17,
     "metadata": {},
     "output_type": "execute_result"
    }
   ],
   "source": [
    "df2.filter((df2['SERIALNUMBER_FUZZY'].isNotNull()) & (df2['UPDATE_COUNT'].isNull())).count()"
   ]
  },
  {
   "cell_type": "code",
   "execution_count": 18,
   "id": "95cae736",
   "metadata": {},
   "outputs": [],
   "source": [
    "last_update_date = m2.select(col('IDX'), col('BUNDLEUPDATEDATE')).group_by(['IDX']).agg(max('BUNDLEUPDATEDATE').alias('UD'))\n",
    "\n",
    "df2 = df2.join(last_update_date, on=\"IDX\", how=\"left\")"
   ]
  },
  {
   "cell_type": "code",
   "execution_count": 19,
   "id": "0bcdcc78",
   "metadata": {},
   "outputs": [],
   "source": [
    "df2 = df2.withColumn('LAST_UPDATE_DISTANCE', expr(\"datediff(day, to_date(substring(UD, 1, 10)), to_date(DATE_PREDICT))\"))"
   ]
  },
  {
   "cell_type": "code",
   "execution_count": 20,
   "id": "2b665016",
   "metadata": {},
   "outputs": [],
   "source": [
    "old_update_date = m2.select(col('IDX'), col('BUNDLEUPDATEDATE')).group_by('IDX').agg(min('BUNDLEUPDATEDATE').alias('OD'))\n",
    "df2 = df2.join(old_update_date, on=\"IDX\", how=\"left\")\n"
   ]
  },
  {
   "cell_type": "code",
   "execution_count": 21,
   "id": "21610ee9",
   "metadata": {},
   "outputs": [],
   "source": [
    "df2 = df2.withColumn('UPDATE_FREQUENCY', expr(\"datediff(day, to_date(substring(OD, 1, 10)), to_date(DATE_PREDICT))\"))"
   ]
  },
  {
   "cell_type": "code",
   "execution_count": 22,
   "id": "0dc8a57f",
   "metadata": {},
   "outputs": [],
   "source": [
    "df2 = df2.cache_result()"
   ]
  },
  {
   "cell_type": "code",
   "execution_count": 23,
   "id": "9c171023",
   "metadata": {},
   "outputs": [],
   "source": [
    "train = train.join(df2.select(col('IDX'), col('UPDATE_COUNT'), col('LAST_UPDATE_DISTANCE'), \n",
    "                              col('UPDATE_FREQUENCY')), on=\"IDX\", how=\"left\")"
   ]
  },
  {
   "cell_type": "code",
   "execution_count": 24,
   "id": "ed8bc819",
   "metadata": {},
   "outputs": [],
   "source": [
    "train = train.withColumn('HAS_SERIAL', when(col('SERIALNUMBER_FUZZY').isNotNull(), 1).otherwise(0))"
   ]
  },
  {
   "cell_type": "code",
   "execution_count": 25,
   "id": "10e8d26a",
   "metadata": {},
   "outputs": [
    {
     "data": {
      "text/plain": [
       "186489"
      ]
     },
     "execution_count": 25,
     "metadata": {},
     "output_type": "execute_result"
    }
   ],
   "source": [
    "train.filter((train['SERIALNUMBER_FUZZY'].isNotNull()) & (train['LAST_UPDATE_DISTANCE'].isNull())).count()"
   ]
  },
  {
   "cell_type": "code",
   "execution_count": 26,
   "id": "86ba16eb",
   "metadata": {},
   "outputs": [
    {
     "data": {
      "text/plain": [
       "913625"
      ]
     },
     "execution_count": 26,
     "metadata": {},
     "output_type": "execute_result"
    }
   ],
   "source": [
    "train.count()"
   ]
  },
  {
   "cell_type": "code",
   "execution_count": 27,
   "id": "8f37bc13",
   "metadata": {},
   "outputs": [],
   "source": [
    "sn_table = train.select(col('IDX'), col('SERIALNUMBER_FUZZY'), col('UPDATE_COUNT'), col('LAST_UPDATE_DISTANCE'), \n",
    "                        col('UPDATE_FREQUENCY'), col('HAS_SERIAL'))"
   ]
  },
  {
   "cell_type": "code",
   "execution_count": 28,
   "id": "5bd3a739",
   "metadata": {},
   "outputs": [],
   "source": [
    "sn_table.write.mode(\"overwrite\").save_as_table(\"TR_SN_FEATURES\")"
   ]
  },
  {
   "cell_type": "code",
   "execution_count": 29,
   "id": "f5e1d912",
   "metadata": {},
   "outputs": [],
   "source": [
    "a = session.sql('''UPDATE DATA_LAB_TEST.PREDICTOR.TR_FT_TRAIN A\n",
    "    SET A.SERIALNUMBER_FUZZY = B.SERIALNUMBER_FUZZY,\n",
    "        A.UPDATE_COUNT = B.UPDATE_COUNT,\n",
    "        A.LAST_UPDATE_DISTANCE = B.LAST_UPDATE_DISTANCE,\n",
    "        A.UPDATE_FREQUENCY = B.UPDATE_FREQUENCY,\n",
    "        A.HAS_SERIAL = B.HAS_SERIAL\n",
    "    FROM DATA_LAB_TEST.PREDICTOR.TR_SN_FEATURES B\n",
    "    WHERE A.IDX = B.IDX''')"
   ]
  },
  {
   "cell_type": "code",
   "execution_count": 30,
   "id": "8adf2066",
   "metadata": {},
   "outputs": [
    {
     "data": {
      "text/plain": [
       "[Row(number of rows updated=913625, number of multi-joined rows updated=0)]"
      ]
     },
     "execution_count": 30,
     "metadata": {},
     "output_type": "execute_result"
    }
   ],
   "source": [
    "a.collect()"
   ]
  },
  {
   "cell_type": "code",
   "execution_count": null,
   "id": "dcb673bc",
   "metadata": {},
   "outputs": [],
   "source": []
  }
 ],
 "metadata": {
  "kernelspec": {
   "display_name": "conda_custom_new",
   "language": "python",
   "name": "conda_custom_new"
  },
  "language_info": {
   "codemirror_mode": {
    "name": "ipython",
    "version": 3
   },
   "file_extension": ".py",
   "mimetype": "text/x-python",
   "name": "python",
   "nbconvert_exporter": "python",
   "pygments_lexer": "ipython3",
   "version": "3.8.16"
  }
 },
 "nbformat": 4,
 "nbformat_minor": 5
}
