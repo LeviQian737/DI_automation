{
 "cells": [
  {
   "cell_type": "code",
   "execution_count": 1,
   "id": "e78615bb",
   "metadata": {},
   "outputs": [],
   "source": [
    "import os\n",
    "from snowflake.snowpark import Session\n",
    "from snowflake.snowpark.functions import *\n",
    "#desc, abs, count, col, concat, concat_ws, udf, array_construct, countDistinct, when\n",
    "from snowflake.snowpark.window import Window\n",
    "from snowflake.snowpark.types import *\n",
    "\n",
    "from sklearn.model_selection import train_test_split # split  data into training and testing sets\n",
    "from sklearn.metrics import balanced_accuracy_score, roc_auc_score, make_scorer # for scoring during cross validation\n",
    "from sklearn.model_selection import GridSearchCV # cross validation\n",
    "from sklearn.metrics import confusion_matrix # creates a confusion matrix\n",
    "#from sklearn.m etrics import plot_confusion_matrix # draws a confusion matrix\n",
    "from sklearn.metrics import mean_squared_error as MSE\n",
    "\n",
    "from sklearn.metrics import f1_score\n",
    "from sklearn.metrics import precision_score\n",
    "from sklearn.metrics import recall_score\n",
    "from sklearn.metrics import accuracy_score\n",
    "\n",
    "import xgboost as xgb \n",
    "#import shap\n",
    "import pandas as pd\n",
    "import numpy as np\n",
    "import matplotlib.pyplot as plt\n",
    "from datetime import datetime, timedelta\n",
    "import math"
   ]
  },
  {
   "cell_type": "code",
   "execution_count": 2,
   "id": "4dc16e86",
   "metadata": {},
   "outputs": [],
   "source": [
    "today = datetime.today()\n",
    "current_month_start = datetime(today.year, today.month, 1)\n",
    "previous_month_start = datetime(today.year, today.month-1, 1)\n",
    "#previous_month_end = current_month_start - timedelta(days=1)"
   ]
  },
  {
   "cell_type": "code",
   "execution_count": 3,
   "id": "cbc0fd41",
   "metadata": {},
   "outputs": [],
   "source": [
    "SCHEME = \"https\"\n",
    "ACCOUNT = \"wa15423.us-east-2.aws\"\n",
    "HOST = \"wa15423.us-east-2.aws.snowflakecomputing.com\"\n",
    "PORT = \"443\"\n",
    "WAREHOUSE = \"ANALYTICS_S\"\n",
    "ROLE = \"SVC_DATALAB_ROLE\"\n",
    "DATABASE = \"DATA_LAB_TEST\"\n",
    "SCHEMA = \"PREDICTOR\"\n",
    "\n",
    "connection_parameters = {\n",
    "        \"account\": ACCOUNT,\n",
    "        \"user\": 'svc_datalab',\n",
    "        \"password\": 'p4Xcwd3JmZz;6j!gs.vtg',\n",
    "        \"role\": ROLE,\n",
    "        \"warehouse\": WAREHOUSE,\n",
    "        \"database\": DATABASE,\n",
    "        \"schema\": SCHEMA\n",
    "      }\n",
    "\n",
    "session = Session.builder.configs(connection_parameters).create()"
   ]
  },
  {
   "cell_type": "code",
   "execution_count": 4,
   "id": "48f5f7a5",
   "metadata": {},
   "outputs": [],
   "source": [
    "all_orders = session.sql(\"SELECT * FROM TR_ORDERS_DEVICE WHERE PARTYID is not null AND SHOPPARTYID is not null\")"
   ]
  },
  {
   "cell_type": "code",
   "execution_count": 5,
   "id": "154a7e5e",
   "metadata": {},
   "outputs": [],
   "source": [
    "orders_DI = all_orders.filter(col(\"BASE_MODEL\").isNotNull())\n",
    "DI_list = orders_DI.select(col(\"PARTYID\"), col(\"SHOPPARTYID\")).distinct()\n",
    "orders_DI = orders_DI.join(orders_DI.groupBy('PARTYID').agg(min(col(\"COMPLETEDATE\")).alias(\"FIRST_DI_PURCHASE\")), ['PARTYID'], 'left')\n"
   ]
  },
  {
   "cell_type": "code",
   "execution_count": 6,
   "id": "3a5d09a2",
   "metadata": {},
   "outputs": [],
   "source": [
    "di_labels = session.sql('''\n",
    "WITH USERS AS (SELECT PARTYID, FIRST_DI_PURCHASE, DATE_PREDICT, ROW_NUMBER() OVER(ORDER BY DATE_PREDICT, PARTYID) AS RN\n",
    "                FROM (SELECT PARTYID, min(COMPLETEDATE) as FIRST_DI_PURCHASE \n",
    "                        FROM TR_ORDERS_DEVICE \n",
    "                        WHERE BASE_MODEL is not null AND PARTYID is not null AND SHOPPARTYID is not null\n",
    "                        GROUP BY 1\n",
    "                    ) A\n",
    "                JOIN (SELECT DATEADD(MONTH, seq - 1, '2013-01-01') AS DATE_PREDICT\n",
    "                        FROM (SELECT ROW_NUMBER() OVER(ORDER BY seq4()) AS seq\n",
    "                                FROM TABLE(GENERATOR(ROWCOUNT => 1000 ))\n",
    "                      )\n",
    "                      WHERE DATE_PREDICT<=DATE_TRUNC('MONTH', CURRENT_DATE)) B\n",
    "                WHERE DATE_PREDICT > FIRST_DI_PURCHASE )\n",
    "\n",
    "SELECT PARTYID, BPN, GUID, SHOPPARTYID, SHOPGUID, DATE_PREDICT, FIRST_DI_PURCHASE, YEAR(DATE_PREDICT) AS YEAR_PREDICT, RN AS IDX, \n",
    "        COUNTRY, ITEM_SKU, ITEM_PRICE, BASE_MODEL, COMPLETEDATE1 AS COMPLETEDATE, GAP_DAY, TIER, COUNT(CASE WHEN MONTHS_DIFF<=0 THEN 1 END) AS DI_PURCHASED, \n",
    "        MAX(LABEL1) AS LABEL1, MAX(LABEL2) AS LABEL2, MAX(LABEL3) AS LABEL3\n",
    "FROM (\n",
    "        SELECT U.PARTYID, U.FIRST_DI_PURCHASE, DATE_PREDICT, RN, CEIL(MONTHS_BETWEEN(A.COMPLETEDATE, U.DATE_PREDICT)) AS MONTHS_DIFF,\n",
    "                CASE WHEN MONTHS_DIFF <= 0 AND DATE(COMPLETEDATE)<U.DATE_PREDICT THEN 0 ELSE 1 END AS FLAG, \n",
    "                FIRST_VALUE(BPN) OVER (PARTITION BY RN ORDER BY FLAG, COMPLETEDATE desc) AS BPN,\n",
    "                FIRST_VALUE(GUID) OVER (PARTITION BY RN ORDER BY FLAG, COMPLETEDATE desc) AS GUID,\n",
    "                FIRST_VALUE(SHOPPARTYID) OVER (PARTITION BY RN ORDER BY FLAG, COMPLETEDATE desc) AS SHOPPARTYID,\n",
    "                FIRST_VALUE(SHOPGUID) OVER (PARTITION BY RN ORDER BY FLAG, COMPLETEDATE desc) AS SHOPGUID,\n",
    "                FIRST_VALUE(COUNTRY) OVER (PARTITION BY RN ORDER BY FLAG, COMPLETEDATE desc) AS COUNTRY,\n",
    "                FIRST_VALUE(ITEM_SKU) OVER (PARTITION BY RN ORDER BY FLAG, COMPLETEDATE desc) AS ITEM_SKU,\n",
    "                FIRST_VALUE(ITEM_PRICE) OVER (PARTITION BY RN ORDER BY FLAG, COMPLETEDATE desc) AS ITEM_PRICE,\n",
    "                FIRST_VALUE(BASE_MODEL) OVER (PARTITION BY RN ORDER BY FLAG, COMPLETEDATE desc) AS BASE_MODEL,\n",
    "                FIRST_VALUE(TIER) OVER (PARTITION BY RN ORDER BY FLAG, COMPLETEDATE desc) AS TIER,\n",
    "                FIRST_VALUE(COMPLETEDATE) OVER (PARTITION BY RN ORDER BY FLAG, COMPLETEDATE desc) AS COMPLETEDATE1,\n",
    "                DATEDIFF('day', COMPLETEDATE1, DATE_PREDICT) AS GAP_DAY,\n",
    "                CASE WHEN MONTHS_DIFF<=3 AND MONTHS_DIFF>0 THEN 1 ELSE 0 END AS LABEL1, \n",
    "                CASE WHEN MONTHS_DIFF<=6 AND MONTHS_DIFF>0 THEN 1 ELSE 0 END AS LABEL2,\n",
    "                CASE WHEN MONTHS_DIFF<=12 AND MONTHS_DIFF>0 THEN 1 ELSE 0 END AS LABEL3 \n",
    "        FROM USERS U\n",
    "        LEFT JOIN (SELECT *, ROW_NUMBER() OVER(PARTITION BY PARTYID ORDER BY COMPLETEDATE) AS RN1\n",
    "                    FROM TR_ORDERS_DEVICE\n",
    "                    WHERE BASE_MODEL is not null AND PARTYID is not null AND SHOPPARTYID is not null) A\n",
    "        ON U.PARTYID = A.PARTYID )\n",
    "GROUP BY 1, 2, 3, 4, 5, 6, 7, 8, 9, 10, 11, 12, 13, 14, 15, 16''')"
   ]
  },
  {
   "cell_type": "code",
   "execution_count": 7,
   "id": "ad934e75",
   "metadata": {},
   "outputs": [
    {
     "data": {
      "text/plain": [
       "20178722"
      ]
     },
     "execution_count": 7,
     "metadata": {},
     "output_type": "execute_result"
    }
   ],
   "source": [
    "di_labels.count()"
   ]
  },
  {
   "cell_type": "code",
   "execution_count": 8,
   "id": "e2d0450c",
   "metadata": {},
   "outputs": [
    {
     "name": "stdout",
     "output_type": "stream",
     "text": [
      "-----------------------\n",
      "|\"LABEL3\"  |\"COUNT\"   |\n",
      "-----------------------\n",
      "|1         |928414    |\n",
      "|0         |19250308  |\n",
      "-----------------------\n",
      "\n"
     ]
    }
   ],
   "source": [
    "di_labels.groupBy('LABEL3').count().orderBy('count').show()"
   ]
  },
  {
   "cell_type": "code",
   "execution_count": 9,
   "id": "4344070b",
   "metadata": {},
   "outputs": [],
   "source": [
    "df_loyal = session.table('TR_SHOP_LOYALTY')\n",
    "df_last = di_labels.join(df_loyal.select(col('SHOPPARTYID'), col('LOYALTY')), ['SHOPPARTYID'], 'left')"
   ]
  },
  {
   "cell_type": "code",
   "execution_count": 10,
   "id": "c375a766",
   "metadata": {},
   "outputs": [
    {
     "data": {
      "text/plain": [
       "11463046"
      ]
     },
     "execution_count": 10,
     "metadata": {},
     "output_type": "execute_result"
    }
   ],
   "source": [
    "df_last.filter(col('LOYALTY').isNull()).count()"
   ]
  },
  {
   "cell_type": "code",
   "execution_count": 11,
   "id": "690dca20",
   "metadata": {},
   "outputs": [],
   "source": [
    "df_last = df_last.na.fill({\"LOYALTY\": 0})"
   ]
  },
  {
   "cell_type": "code",
   "execution_count": 12,
   "id": "1a4bc589",
   "metadata": {},
   "outputs": [],
   "source": [
    "df_last = df_last.withColumn('SERIALNUMBER_FUZZY', lit(None))\n",
    "df_last = df_last.withColumn('LAST_UPDATE_DISTANCE', lit(None))\n",
    "df_last = df_last.withColumn('UPDATE_COUNT', lit(None))\n",
    "df_last = df_last.withColumn('UPDATE_FREQUENCY', lit(None))\n",
    "df_last = df_last.withColumn('HAS_SERIAL', lit(None))"
   ]
  },
  {
   "cell_type": "code",
   "execution_count": 13,
   "id": "66250c5e",
   "metadata": {},
   "outputs": [],
   "source": [
    "df_last.write.mode(\"overwrite\").save_as_table(\"TR_FT_TRAIN\")"
   ]
  },
  {
   "cell_type": "code",
   "execution_count": 14,
   "id": "876e44a3",
   "metadata": {},
   "outputs": [],
   "source": [
    "orders_to_predict = all_orders.drop('IDX').join(di_labels.select(col('PARTYID'), col('IDX'), col('DATE_PREDICT')), ['PARTYID'], 'right')\\\n",
    "            .withColumn(\"GAP_DAY\", datediff(\"day\", to_date(col('COMPLETEDATE')), to_date(col('DATE_PREDICT'))))\\\n",
    "                                    .filter(col('GAP_DAY') >= 0)\n",
    "            \n"
   ]
  },
  {
   "cell_type": "code",
   "execution_count": 15,
   "id": "451c4a54",
   "metadata": {},
   "outputs": [],
   "source": [
    "orders_2years = orders_to_predict.filter(col('GAP_DAY') < 4 * 90).filter(col('GAP_DAY') >= 1)\n",
    "orders_2years = orders_2years.withColumn('GAP_DAY', floor(col('GAP_DAY') / 90))\\\n",
    "                .withColumnRenamed(\"GAP_DAY\", 'GAP')\\\n",
    "                .filter(col(\"BASE_MODEL\").isNull())\\\n",
    "                .filter(col('SHORT').isin(['TS', 'PT', 'HT', 'ES', 'DI']))\\\n",
    "                .groupBy('PARTYID', 'IDX', 'SHORT', 'MAJOR', 'GAP')\\\n",
    "                .agg(sum(col('ITEM_PRICE')).alias(\"PRICE\"))\n",
    "orders_2years = orders_2years.select(\"*\", concat(col('SHORT'), lit('_'), col('MAJOR'), lit('_'), col('GAP')).alias('PRODUCT_LINE'))\\\n",
    "            .drop([\"SHORT\", \"MAJOR\", \"GAP\"])\n"
   ]
  },
  {
   "cell_type": "code",
   "execution_count": 16,
   "id": "2253e0e3",
   "metadata": {},
   "outputs": [],
   "source": [
    "product_lines = []\n",
    "for i in orders_2years.select(col(\"PRODUCT_LINE\")).distinct().collect():\n",
    "    product_lines.append(i[0])\n",
    "    \n",
    "col_list = [\"PARTYID\", \"IDX\"]\n",
    "col_list.extend(product_lines)\n",
    "\n",
    "#orders_2years = orders_2years.drop('SHORT_YEAR')\n",
    "\n",
    "df_line = orders_2years.pivot(\"PRODUCT_LINE\", product_lines).sum(\"PRICE\")\n",
    "col_map = dict(zip(df_line.columns, col_list))\n",
    "df_line = df_line.select([col(c).alias(col_map[c]) for c in df_line.columns])\n",
    "df_line = df_line.na.fill(value=0, subset=product_lines)\n",
    "\n",
    "col_list = [\"PARTYID\", \"IDX\"]\n",
    "col_list.extend(sorted(product_lines))\n",
    "df_line = df_line.select(col_list)"
   ]
  },
  {
   "cell_type": "code",
   "execution_count": 17,
   "id": "29be96bd",
   "metadata": {},
   "outputs": [],
   "source": [
    "df_line.write.mode(\"overwrite\").save_as_table(\"TR_FT_PRODUCT_LINE\")"
   ]
  },
  {
   "cell_type": "code",
   "execution_count": 18,
   "id": "3a947ccf",
   "metadata": {},
   "outputs": [],
   "source": [
    "orders_to_predict = all_orders.drop('IDX').drop(['BPN', 'GUID', 'SHOPGUID', 'PREDICT_QUARTER']).withColumnRenamed(\"PARTYID\", 'PARTYID_IN_SHOP')\\\n",
    "                              .join(di_labels.select(col('PARTYID'), col('IDX'), col('DATE_PREDICT'), col('SHOPPARTYID')), ['SHOPPARTYID'], 'right')\\\n",
    "                              .withColumn(\"GAP_DAY\", datediff(\"day\", to_date(col('COMPLETEDATE')), to_date(col('DATE_PREDICT'))))\n"
   ]
  },
  {
   "cell_type": "code",
   "execution_count": 19,
   "id": "f00babec",
   "metadata": {},
   "outputs": [],
   "source": [
    "df_mechs = orders_to_predict.filter(col('GAP_DAY') < 4 * 90).filter(col('GAP_DAY') >= 1)\n",
    "df_mechs = df_mechs.withColumn('GAP_DAY', floor(col('GAP_DAY') / 90))\\\n",
    "                        .withColumnRenamed(\"GAP_DAY\", 'GAP')\\\n",
    "                        .select(col('PARTYID'), col('SHOPPARTYID'), col('PARTYID_IN_SHOP'),\\\n",
    "                                col('IDX'), col('GAP')).distinct()\n",
    "\n",
    "df_mechs = df_mechs.groupBy('PARTYID', 'SHOPPARTYID', 'IDX', 'GAP')\\\n",
    "                    .count().withColumnRenamed(\"COUNT\", \"TECH\")\n",
    "df_mechs = df_mechs.pivot('GAP', [0,1,2,3]).sum(\"TECH\")\n"
   ]
  },
  {
   "cell_type": "code",
   "execution_count": 20,
   "id": "bb97f4d5",
   "metadata": {},
   "outputs": [],
   "source": [
    "col_list = ['PARTYID', 'SHOPPARTYID', 'IDX', 'TECH_0', 'TECH_1', 'TECH_2', 'TECH_3']\n",
    "\n",
    "col_map = dict(zip(df_mechs.columns, col_list))\n",
    "df_mechs = df_mechs.select([col(c).alias(col_map[c]) for c in df_mechs.columns])\n",
    "df_mechs = df_mechs.na.fill(value=0, subset=['TECH_0', 'TECH_1', 'TECH_2', 'TECH_3'])\n"
   ]
  },
  {
   "cell_type": "code",
   "execution_count": null,
   "id": "2e042787",
   "metadata": {},
   "outputs": [],
   "source": [
    "df_mechs.select()"
   ]
  },
  {
   "cell_type": "code",
   "execution_count": 22,
   "id": "71633a89",
   "metadata": {},
   "outputs": [],
   "source": [
    "df_mechs.write.mode(\"overwrite\").save_as_table(\"TR_FT_MECHANICS\")"
   ]
  },
  {
   "cell_type": "code",
   "execution_count": null,
   "id": "eb97674e",
   "metadata": {},
   "outputs": [],
   "source": []
  }
 ],
 "metadata": {
  "kernelspec": {
   "display_name": "Custom (custom_python)",
   "language": "python",
   "name": "custom_python"
  },
  "language_info": {
   "codemirror_mode": {
    "name": "ipython",
    "version": 3
   },
   "file_extension": ".py",
   "mimetype": "text/x-python",
   "name": "python",
   "nbconvert_exporter": "python",
   "pygments_lexer": "ipython3",
   "version": "3.8.13"
  }
 },
 "nbformat": 4,
 "nbformat_minor": 5
}
